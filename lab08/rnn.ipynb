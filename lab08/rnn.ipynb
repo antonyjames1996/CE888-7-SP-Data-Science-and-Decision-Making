{
  "cells": [
    {
      "cell_type": "markdown",
      "source": [
        "# Learning from Sequences: Timeseries and Text\n",
        "\n",
        "Created by Dr Ana Matran-Fernandez (amatra@essex.ac.uk) for CE888 (Data Science and Decision Making)\n",
        "\n",
        "This notebook accompanies lecture 8 and illustrates recurrent neural networks on an example of a timeseries (predicting tomorrow's temperature) and a classification problem on the IMDB text dataset."
      ],
      "metadata": {
        "id": "gS1IIAS-bcb-"
      }
    },
    {
      "cell_type": "markdown",
      "source": [
        "# Imports"
      ],
      "metadata": {
        "id": "0myiQp20cxRK"
      }
    },
    {
      "cell_type": "code",
      "execution_count": null,
      "metadata": {
        "id": "1J0bYBQ7_a0L"
      },
      "outputs": [],
      "source": [
        "# imports\n",
        "import numpy as np\n",
        "import matplotlib.pyplot as plt\n",
        "import os\n",
        "import pandas as pd\n",
        "from sklearn.model_selection import train_test_split"
      ]
    },
    {
      "cell_type": "code",
      "execution_count": null,
      "metadata": {
        "id": "U0NPDv7X_a0M"
      },
      "outputs": [],
      "source": [
        "# tensorflow imports\n",
        "from tensorflow import keras\n",
        "from keras import layers, models\n",
        "from keras.callbacks import EarlyStopping, ModelCheckpoint"
      ]
    },
    {
      "cell_type": "markdown",
      "source": [
        "# Timeseries"
      ],
      "metadata": {
        "id": "xaiw_VZjbtSH"
      }
    },
    {
      "cell_type": "code",
      "execution_count": 6,
      "metadata": {
        "colab": {
          "base_uri": "https://localhost:8080/",
          "height": 423
        },
        "id": "iA_R1Q-K_a0N",
        "outputId": "b03a59f6-d6dd-40e1-8425-34fc5f3dc6d6"
      },
      "outputs": [
        {
          "output_type": "execute_result",
          "data": {
            "text/plain": [
              "                  date  radiation_avg  precip  wind_avg  wind_max  temp_avg  \\\n",
              "0     14/05/2014 00:00            159     0.0       1.4       3.3     14.27   \n",
              "1     15/05/2014 00:00            280     0.0       0.6       2.3     13.51   \n",
              "2     16/05/2014 00:00            186     3.4       0.8       2.7     15.65   \n",
              "3     17/05/2014 00:00            221     0.0       1.0       3.3     17.46   \n",
              "4     18/05/2014 00:00            255     0.0       2.1       5.5     16.85   \n",
              "...                ...            ...     ...       ...       ...       ...   \n",
              "2551  17/05/2021 00:00            196     1.4       2.2       5.5     10.51   \n",
              "2552  17/05/2021 00:00            173     2.8       1.8       5.5     10.80   \n",
              "2553  18/05/2021 00:00            311     0.0       1.4       5.0     10.29   \n",
              "2554  19/05/2021 00:00            232     6.6       1.8       5.5     11.39   \n",
              "2555  20/05/2021 00:00             44     0.0       0.5       2.7      6.35   \n",
              "\n",
              "      humidity_avg  \n",
              "0            64.95  \n",
              "1            72.91  \n",
              "2            74.69  \n",
              "3            71.42  \n",
              "4            74.45  \n",
              "...            ...  \n",
              "2551         99.86  \n",
              "2552         99.86  \n",
              "2553         92.94  \n",
              "2554         90.32  \n",
              "2555         99.86  \n",
              "\n",
              "[2556 rows x 7 columns]"
            ],
            "text/html": [
              "\n",
              "  <div id=\"df-14114756-0f9b-454b-b002-17b5835eec47\">\n",
              "    <div class=\"colab-df-container\">\n",
              "      <div>\n",
              "<style scoped>\n",
              "    .dataframe tbody tr th:only-of-type {\n",
              "        vertical-align: middle;\n",
              "    }\n",
              "\n",
              "    .dataframe tbody tr th {\n",
              "        vertical-align: top;\n",
              "    }\n",
              "\n",
              "    .dataframe thead th {\n",
              "        text-align: right;\n",
              "    }\n",
              "</style>\n",
              "<table border=\"1\" class=\"dataframe\">\n",
              "  <thead>\n",
              "    <tr style=\"text-align: right;\">\n",
              "      <th></th>\n",
              "      <th>date</th>\n",
              "      <th>radiation_avg</th>\n",
              "      <th>precip</th>\n",
              "      <th>wind_avg</th>\n",
              "      <th>wind_max</th>\n",
              "      <th>temp_avg</th>\n",
              "      <th>humidity_avg</th>\n",
              "    </tr>\n",
              "  </thead>\n",
              "  <tbody>\n",
              "    <tr>\n",
              "      <th>0</th>\n",
              "      <td>14/05/2014 00:00</td>\n",
              "      <td>159</td>\n",
              "      <td>0.0</td>\n",
              "      <td>1.4</td>\n",
              "      <td>3.3</td>\n",
              "      <td>14.27</td>\n",
              "      <td>64.95</td>\n",
              "    </tr>\n",
              "    <tr>\n",
              "      <th>1</th>\n",
              "      <td>15/05/2014 00:00</td>\n",
              "      <td>280</td>\n",
              "      <td>0.0</td>\n",
              "      <td>0.6</td>\n",
              "      <td>2.3</td>\n",
              "      <td>13.51</td>\n",
              "      <td>72.91</td>\n",
              "    </tr>\n",
              "    <tr>\n",
              "      <th>2</th>\n",
              "      <td>16/05/2014 00:00</td>\n",
              "      <td>186</td>\n",
              "      <td>3.4</td>\n",
              "      <td>0.8</td>\n",
              "      <td>2.7</td>\n",
              "      <td>15.65</td>\n",
              "      <td>74.69</td>\n",
              "    </tr>\n",
              "    <tr>\n",
              "      <th>3</th>\n",
              "      <td>17/05/2014 00:00</td>\n",
              "      <td>221</td>\n",
              "      <td>0.0</td>\n",
              "      <td>1.0</td>\n",
              "      <td>3.3</td>\n",
              "      <td>17.46</td>\n",
              "      <td>71.42</td>\n",
              "    </tr>\n",
              "    <tr>\n",
              "      <th>4</th>\n",
              "      <td>18/05/2014 00:00</td>\n",
              "      <td>255</td>\n",
              "      <td>0.0</td>\n",
              "      <td>2.1</td>\n",
              "      <td>5.5</td>\n",
              "      <td>16.85</td>\n",
              "      <td>74.45</td>\n",
              "    </tr>\n",
              "    <tr>\n",
              "      <th>...</th>\n",
              "      <td>...</td>\n",
              "      <td>...</td>\n",
              "      <td>...</td>\n",
              "      <td>...</td>\n",
              "      <td>...</td>\n",
              "      <td>...</td>\n",
              "      <td>...</td>\n",
              "    </tr>\n",
              "    <tr>\n",
              "      <th>2551</th>\n",
              "      <td>17/05/2021 00:00</td>\n",
              "      <td>196</td>\n",
              "      <td>1.4</td>\n",
              "      <td>2.2</td>\n",
              "      <td>5.5</td>\n",
              "      <td>10.51</td>\n",
              "      <td>99.86</td>\n",
              "    </tr>\n",
              "    <tr>\n",
              "      <th>2552</th>\n",
              "      <td>17/05/2021 00:00</td>\n",
              "      <td>173</td>\n",
              "      <td>2.8</td>\n",
              "      <td>1.8</td>\n",
              "      <td>5.5</td>\n",
              "      <td>10.80</td>\n",
              "      <td>99.86</td>\n",
              "    </tr>\n",
              "    <tr>\n",
              "      <th>2553</th>\n",
              "      <td>18/05/2021 00:00</td>\n",
              "      <td>311</td>\n",
              "      <td>0.0</td>\n",
              "      <td>1.4</td>\n",
              "      <td>5.0</td>\n",
              "      <td>10.29</td>\n",
              "      <td>92.94</td>\n",
              "    </tr>\n",
              "    <tr>\n",
              "      <th>2554</th>\n",
              "      <td>19/05/2021 00:00</td>\n",
              "      <td>232</td>\n",
              "      <td>6.6</td>\n",
              "      <td>1.8</td>\n",
              "      <td>5.5</td>\n",
              "      <td>11.39</td>\n",
              "      <td>90.32</td>\n",
              "    </tr>\n",
              "    <tr>\n",
              "      <th>2555</th>\n",
              "      <td>20/05/2021 00:00</td>\n",
              "      <td>44</td>\n",
              "      <td>0.0</td>\n",
              "      <td>0.5</td>\n",
              "      <td>2.7</td>\n",
              "      <td>6.35</td>\n",
              "      <td>99.86</td>\n",
              "    </tr>\n",
              "  </tbody>\n",
              "</table>\n",
              "<p>2556 rows × 7 columns</p>\n",
              "</div>\n",
              "      <button class=\"colab-df-convert\" onclick=\"convertToInteractive('df-14114756-0f9b-454b-b002-17b5835eec47')\"\n",
              "              title=\"Convert this dataframe to an interactive table.\"\n",
              "              style=\"display:none;\">\n",
              "        \n",
              "  <svg xmlns=\"http://www.w3.org/2000/svg\" height=\"24px\"viewBox=\"0 0 24 24\"\n",
              "       width=\"24px\">\n",
              "    <path d=\"M0 0h24v24H0V0z\" fill=\"none\"/>\n",
              "    <path d=\"M18.56 5.44l.94 2.06.94-2.06 2.06-.94-2.06-.94-.94-2.06-.94 2.06-2.06.94zm-11 1L8.5 8.5l.94-2.06 2.06-.94-2.06-.94L8.5 2.5l-.94 2.06-2.06.94zm10 10l.94 2.06.94-2.06 2.06-.94-2.06-.94-.94-2.06-.94 2.06-2.06.94z\"/><path d=\"M17.41 7.96l-1.37-1.37c-.4-.4-.92-.59-1.43-.59-.52 0-1.04.2-1.43.59L10.3 9.45l-7.72 7.72c-.78.78-.78 2.05 0 2.83L4 21.41c.39.39.9.59 1.41.59.51 0 1.02-.2 1.41-.59l7.78-7.78 2.81-2.81c.8-.78.8-2.07 0-2.86zM5.41 20L4 18.59l7.72-7.72 1.47 1.35L5.41 20z\"/>\n",
              "  </svg>\n",
              "      </button>\n",
              "      \n",
              "  <style>\n",
              "    .colab-df-container {\n",
              "      display:flex;\n",
              "      flex-wrap:wrap;\n",
              "      gap: 12px;\n",
              "    }\n",
              "\n",
              "    .colab-df-convert {\n",
              "      background-color: #E8F0FE;\n",
              "      border: none;\n",
              "      border-radius: 50%;\n",
              "      cursor: pointer;\n",
              "      display: none;\n",
              "      fill: #1967D2;\n",
              "      height: 32px;\n",
              "      padding: 0 0 0 0;\n",
              "      width: 32px;\n",
              "    }\n",
              "\n",
              "    .colab-df-convert:hover {\n",
              "      background-color: #E2EBFA;\n",
              "      box-shadow: 0px 1px 2px rgba(60, 64, 67, 0.3), 0px 1px 3px 1px rgba(60, 64, 67, 0.15);\n",
              "      fill: #174EA6;\n",
              "    }\n",
              "\n",
              "    [theme=dark] .colab-df-convert {\n",
              "      background-color: #3B4455;\n",
              "      fill: #D2E3FC;\n",
              "    }\n",
              "\n",
              "    [theme=dark] .colab-df-convert:hover {\n",
              "      background-color: #434B5C;\n",
              "      box-shadow: 0px 1px 3px 1px rgba(0, 0, 0, 0.15);\n",
              "      filter: drop-shadow(0px 1px 2px rgba(0, 0, 0, 0.3));\n",
              "      fill: #FFFFFF;\n",
              "    }\n",
              "  </style>\n",
              "\n",
              "      <script>\n",
              "        const buttonEl =\n",
              "          document.querySelector('#df-14114756-0f9b-454b-b002-17b5835eec47 button.colab-df-convert');\n",
              "        buttonEl.style.display =\n",
              "          google.colab.kernel.accessAllowed ? 'block' : 'none';\n",
              "\n",
              "        async function convertToInteractive(key) {\n",
              "          const element = document.querySelector('#df-14114756-0f9b-454b-b002-17b5835eec47');\n",
              "          const dataTable =\n",
              "            await google.colab.kernel.invokeFunction('convertToInteractive',\n",
              "                                                     [key], {});\n",
              "          if (!dataTable) return;\n",
              "\n",
              "          const docLinkHtml = 'Like what you see? Visit the ' +\n",
              "            '<a target=\"_blank\" href=https://colab.research.google.com/notebooks/data_table.ipynb>data table notebook</a>'\n",
              "            + ' to learn more about interactive tables.';\n",
              "          element.innerHTML = '';\n",
              "          dataTable['output_type'] = 'display_data';\n",
              "          await google.colab.output.renderOutput(dataTable, element);\n",
              "          const docLink = document.createElement('div');\n",
              "          docLink.innerHTML = docLinkHtml;\n",
              "          element.appendChild(docLink);\n",
              "        }\n",
              "      </script>\n",
              "    </div>\n",
              "  </div>\n",
              "  "
            ]
          },
          "metadata": {},
          "execution_count": 6
        }
      ],
      "source": [
        "df = pd.read_csv('weather.txt')\n",
        "df.drop(['temp_max', 'temp_min'], axis=1, inplace=True)\n",
        "df"
      ]
    },
    {
      "cell_type": "code",
      "execution_count": 7,
      "metadata": {
        "colab": {
          "base_uri": "https://localhost:8080/",
          "height": 279
        },
        "id": "nzsytNAh_a0N",
        "outputId": "c9cd6412-9bfc-45cb-f624-e26b87e5febc"
      },
      "outputs": [
        {
          "output_type": "display_data",
          "data": {
            "text/plain": [
              "<Figure size 432x288 with 1 Axes>"
            ],
            "image/png": "[encoded data removed]"
          },
          "metadata": {
            "needs_background": "light"
          }
        }
      ],
      "source": [
        "plt.plot(range(len(df)), df['temp_avg'])\n",
        "plt.xlabel('Temporal range')\n",
        "plt.ylabel('Average temperature (C) (7 years)')\n",
        "plt.savefig('temperature_over_time.pdf', bbox_inches='tight')"
      ]
    },
    {
      "cell_type": "code",
      "execution_count": 8,
      "metadata": {
        "colab": {
          "base_uri": "https://localhost:8080/",
          "height": 279
        },
        "id": "ysbM2n99_a0N",
        "outputId": "d22b8a70-d652-4d86-ea08-03802ff55cbe"
      },
      "outputs": [
        {
          "output_type": "display_data",
          "data": {
            "text/plain": [
              "<Figure size 432x288 with 1 Axes>"
            ],
            "image/png": "[encoded data removed]"
          },
          "metadata": {
            "needs_background": "light"
          }
        }
      ],
      "source": [
        "# Look at the first 2 years\n",
        "length = 2*365\n",
        "plt.plot(range(length), df['temp_avg'][:length])\n",
        "plt.xlabel('Temporal range')\n",
        "plt.ylabel('Average temperature (C) (2 years)')\n",
        "plt.savefig('temperature_over_time_2y.pdf', bbox_inches='tight')"
      ]
    },
    {
      "cell_type": "markdown",
      "metadata": {
        "id": "ikyqi2m7_a0O"
      },
      "source": [
        "We have clear periodicity every year. In the previous plot we saw 7 cycles (7 years). Here we see 2.\n",
        "\n",
        "Always look for periodicity in your timeseries. There will always be daily and yearly cycles. Check these patterns.\n",
        "\n",
        "Another issue with timeseries is dividing the dataset into train/validation/test sets. We definitely cannot shuffle the data, and we need to be very careful with data leakage (using data from the future)."
      ]
    },
    {
      "cell_type": "markdown",
      "metadata": {
        "id": "1fxuW2ne_a0P"
      },
      "source": [
        "## Data prep\n",
        "\n",
        "We'll try to predict the average temperature of tomorrow based on data from the past.\n",
        "\n",
        "To avoid data leakage, we're going to use a simple approach: use the first 50% of data for training, the next 30% for validation, and the final 20% for testing.\n"
      ]
    },
    {
      "cell_type": "code",
      "execution_count": 9,
      "metadata": {
        "colab": {
          "base_uri": "https://localhost:8080/"
        },
        "id": "vofGsYen_a0P",
        "outputId": "8a14631c-82ba-417e-d1da-970c5a9e819b"
      },
      "outputs": [
        {
          "output_type": "stream",
          "name": "stdout",
          "text": [
            "Samples for training: 1278; validation: 766; test: 512\n"
          ]
        }
      ],
      "source": [
        "n_tr, n_val = int(0.5*len(df)), int(0.3*len(df))\n",
        "n_te = len(df) - n_tr - n_val\n",
        "print('Samples for training: %d; validation: %d; test: %d' % (n_tr, n_val, n_te))"
      ]
    },
    {
      "cell_type": "code",
      "execution_count": 10,
      "metadata": {
        "colab": {
          "base_uri": "https://localhost:8080/"
        },
        "id": "lsMDT2Jq_a0P",
        "outputId": "e4f61bab-0ba2-40a2-9154-c75c572b35a1"
      },
      "outputs": [
        {
          "output_type": "stream",
          "name": "stdout",
          "text": [
            "(2556, 6)\n"
          ]
        }
      ],
      "source": [
        "# Get the data from the dataframe (dropping date column)\n",
        "data = df.iloc[:, 1:].values\n",
        "print(data.shape)\n",
        "assert data.shape[0] == len(df)\n",
        "assert data.shape[1] == len(df.columns)-1, \"Are you sure you're dropping the date?\"\n",
        "# We need to normalise our time series. Calculate mean and std from TRAINING DATA ONLY. \n",
        "# We'll use it on the validation and test sets.\n",
        "mean_tr = data[:n_tr, :].mean(axis=0)\n",
        "std_tr = data[:n_tr, :].std(axis=0)\n",
        "data = (data - mean_tr) / std_tr\n",
        "\n",
        "\n",
        "y = df['temp_avg'].values.reshape(-1, 1)\n",
        "\n",
        "# index of the column that contains the avg_temp\n",
        "y_idx = 4"
      ]
    },
    {
      "cell_type": "code",
      "source": [
        "data[:20, y_idx] * std_tr[y_idx] + mean_tr[y_idx]"
      ],
      "metadata": {
        "colab": {
          "base_uri": "https://localhost:8080/"
        },
        "id": "1VJAcdfICLi1",
        "outputId": "b482348c-5fde-4e4d-b4eb-5c0e19f71404"
      },
      "execution_count": 11,
      "outputs": [
        {
          "output_type": "execute_result",
          "data": {
            "text/plain": [
              "array([14.27, 13.51, 15.65, 17.46, 16.85, 18.26, 17.35, 15.55, 14.52,\n",
              "       13.93, 11.48, 13.63, 12.81, 12.4 , 13.67, 14.15, 13.22, 12.21,\n",
              "       15.53, 14.52])"
            ]
          },
          "metadata": {},
          "execution_count": 11
        }
      ]
    },
    {
      "cell_type": "code",
      "source": [
        "y[5:25]"
      ],
      "metadata": {
        "colab": {
          "base_uri": "https://localhost:8080/"
        },
        "id": "xN-YJyEeCUv9",
        "outputId": "eb7d542a-9a64-4da8-8d12-e50e7e4e736f"
      },
      "execution_count": 12,
      "outputs": [
        {
          "output_type": "execute_result",
          "data": {
            "text/plain": [
              "array([[18.26],\n",
              "       [17.35],\n",
              "       [15.55],\n",
              "       [14.52],\n",
              "       [13.93],\n",
              "       [11.48],\n",
              "       [13.63],\n",
              "       [12.81],\n",
              "       [12.4 ],\n",
              "       [13.67],\n",
              "       [14.15],\n",
              "       [13.22],\n",
              "       [12.21],\n",
              "       [15.53],\n",
              "       [14.52],\n",
              "       [15.35],\n",
              "       [12.29],\n",
              "       [13.88],\n",
              "       [15.13],\n",
              "       [17.29]])"
            ]
          },
          "metadata": {},
          "execution_count": 12
        }
      ]
    },
    {
      "cell_type": "code",
      "execution_count": 13,
      "metadata": {
        "id": "K_JGeiAs_a0Q"
      },
      "outputs": [],
      "source": [
        "# We'll use a Dataset from keras to pass our data\n",
        "sampling_rate = 1  # we keep all data points\n",
        "sequence_length = 14  # 2 weeks to predict tomorrow's temperature\n",
        "delay = sampling_rate * sequence_length  # the target is the day after the end of the sequence\n",
        "batch_size = 16"
      ]
    },
    {
      "cell_type": "code",
      "execution_count": 14,
      "metadata": {
        "colab": {
          "base_uri": "https://localhost:8080/"
        },
        "id": "cRDGWNYl_a0Q",
        "outputId": "0f15cc02-7bb4-410a-cf06-6d68ceb8b2ec"
      },
      "outputs": [
        {
          "output_type": "stream",
          "name": "stdout",
          "text": [
            "X shape: (16, 14, 6)\n",
            "target shape: (16, 1)\n"
          ]
        }
      ],
      "source": [
        "train_dataset = keras.utils.timeseries_dataset_from_array(\n",
        "    data[:-delay],\n",
        "    targets=y[delay:],\n",
        "    sampling_rate=sampling_rate, sequence_length=sequence_length,\n",
        "    batch_size=batch_size,\n",
        "    start_index=0, end_index=n_tr  # first 50% for training\n",
        "    )\n",
        "\n",
        "val_dataset = keras.utils.timeseries_dataset_from_array(\n",
        "    data[:-delay],\n",
        "    targets=y[delay:],\n",
        "    sampling_rate=sampling_rate, sequence_length=sequence_length,\n",
        "    batch_size=batch_size,\n",
        "    start_index=n_tr, end_index=n_tr+n_val  # 50%-80% for validation\n",
        "    )\n",
        "\n",
        "test_dataset = keras.utils.timeseries_dataset_from_array(\n",
        "    data[:-delay],\n",
        "    targets=y[delay:],\n",
        "    sampling_rate=sampling_rate, sequence_length=sequence_length,\n",
        "    batch_size=batch_size,\n",
        "    start_index=n_tr+n_val  # last 20% for test\n",
        "    )\n",
        "\n",
        "for X, target in train_dataset:\n",
        "    print(\"X shape:\", X.shape)\n",
        "    print(\"target shape:\", target.shape)\n",
        "    #print(X[:, :, y_idx] * std_tr[y_idx] + mean_tr[y_idx])\n",
        "    #print(target)\n",
        "    break  # so we only print once"
      ]
    },
    {
      "cell_type": "code",
      "source": [
        "# Function to plot history with neural networks\n",
        "def plot_hist_regression(hist, y):\n",
        "  n_ = len(hist.history['mae'])\n",
        "  plt.plot(range(1, n_+1), np.asarray(hist.history['mae']), 'bo', label='MAE on training set')\n",
        "  plt.plot(range(1, n_+1), np.asarray(hist.history['val_mae']), 'b', label='MAE on validation set')\n",
        "  plt.legend()\n",
        "  plt.xlabel(\"Epoch\") \n",
        "  plt.ylabel(\"MAE (degrees)\")\n",
        "  plt.axhline(y=y)\n",
        "  plt.show()\n"
      ],
      "metadata": {
        "id": "u_v2rAW_W4kQ"
      },
      "execution_count": 15,
      "outputs": []
    },
    {
      "cell_type": "markdown",
      "metadata": {
        "id": "WlhjIvZR_a0Q"
      },
      "source": [
        "## Establishing a baseline\n"
      ]
    },
    {
      "cell_type": "markdown",
      "source": [
        "### Common sense, no ML baseline\n",
        "\n",
        "- Sanity check\n",
        "- To establish whether ML methods are actually any good\n",
        "\n",
        "Tomorrow's temperature is likely to be close to today's: let's predict that the temperature 24 hours from now will be equal to the temperature right now.\n",
        "\n",
        "We'll use the MAE as metric"
      ],
      "metadata": {
        "id": "rloJamyvWPWj"
      }
    },
    {
      "cell_type": "code",
      "execution_count": 16,
      "metadata": {
        "colab": {
          "base_uri": "https://localhost:8080/"
        },
        "id": "MUY5acIf_a0Q",
        "outputId": "8e25ec93-70d7-499c-e74f-c7899bf7f1d5"
      },
      "outputs": [
        {
          "output_type": "stream",
          "name": "stdout",
          "text": [
            "MAE on train set = 2.56 (degrees Celsius)\n",
            "MAE on validation set = 2.69 (degrees Celsius)\n",
            "MAE on test set = 2.85 (degrees Celsius)\n"
          ]
        }
      ],
      "source": [
        "def naive_method(dataset, mean, std):\n",
        "    error = 0\n",
        "    samples = 0\n",
        "    count = 0\n",
        "    for X, target in dataset:\n",
        "        pred = X[:, -1, y_idx] * std + mean  # predict last available temperature and un-standardise\n",
        "        #print(X.shape, target.shape, pred.shape)  # [batch_size, sequence_length, n_feats]\n",
        "        #print(X[:, -1, y_idx] * std + mean, target)\n",
        "        error += np.sum(np.abs(pred - target))\n",
        "        samples += X.shape[0]  # batch_size\n",
        "        count += 1\n",
        "    return error / samples / batch_size # average\n",
        "\n",
        "\n",
        "print('MAE on train set = %.2f (degrees Celsius)' % naive_method(train_dataset, mean_tr[y_idx], std_tr[y_idx]))\n",
        "print('MAE on validation set = %.2f (degrees Celsius)' % naive_method(val_dataset, mean_tr[y_idx], std_tr[y_idx]))\n",
        "print('MAE on test set = %.2f (degrees Celsius)' % naive_method(test_dataset, mean_tr[y_idx], std_tr[y_idx]))\n",
        "# Save MAE on validation for later\n",
        "baseline = naive_method(val_dataset, mean_tr[y_idx], std_tr[y_idx])"
      ]
    },
    {
      "cell_type": "markdown",
      "source": [
        "This baseline achieves a validation MAE of 2.69 degrees and a test MAE of 2.85 degrees. So if we assume that tomorrow's temperature will be the same as today's, we'll be off by less than 3 degrees on average.\n",
        "\n",
        "Not too bad, but surely we can do better!"
      ],
      "metadata": {
        "id": "znycUtxiJmAF"
      }
    },
    {
      "cell_type": "markdown",
      "metadata": {
        "id": "7c-duA1Z_a0R"
      },
      "source": [
        "### Simple ML baseline\n",
        "\n",
        "\n"
      ]
    },
    {
      "cell_type": "code",
      "source": [
        "# To get some practice with neural networks, we'll try a 1-layer NN with nothing fancy.\n",
        "\n",
        "model_dense = models.Sequential()\n",
        "model_dense.add(layers.Flatten(input_shape=(sequence_length, len(df.columns)-1)))  # we need to specify the input shape or we won't be able to see the summary\n",
        "model_dense.add(layers.Dense(10, activation='relu'))\n",
        "model_dense.add(layers.Dense(1))\n",
        "\n",
        "model_dense.summary()"
      ],
      "metadata": {
        "colab": {
          "base_uri": "https://localhost:8080/"
        },
        "id": "fWGqpICHJlRe",
        "outputId": "478464e8-b0c9-4ff6-f8a2-f0f9cd3adfa4"
      },
      "execution_count": 17,
      "outputs": [
        {
          "output_type": "stream",
          "name": "stdout",
          "text": [
            "Model: \"sequential\"\n",
            "_________________________________________________________________\n",
            " Layer (type)                Output Shape              Param #   \n",
            "=================================================================\n",
            " flatten (Flatten)           (None, 84)                0         \n",
            "                                                                 \n",
            " dense (Dense)               (None, 10)                850       \n",
            "                                                                 \n",
            " dense_1 (Dense)             (None, 1)                 11        \n",
            "                                                                 \n",
            "=================================================================\n",
            "Total params: 861\n",
            "Trainable params: 861\n",
            "Non-trainable params: 0\n",
            "_________________________________________________________________\n"
          ]
        }
      ]
    },
    {
      "cell_type": "code",
      "source": [
        "n_epochs = 20\n",
        "\n",
        "model_dense.compile(optimizer='rmsprop', loss='mse', metrics=['mae'])\n",
        "history_dense = model_dense.fit(train_dataset, epochs=n_epochs, validation_data=val_dataset)"
      ],
      "metadata": {
        "colab": {
          "base_uri": "https://localhost:8080/"
        },
        "id": "p0Hz1rX8LMfT",
        "outputId": "771d42f7-627e-4b97-d56a-ddb8a53ff621"
      },
      "execution_count": 18,
      "outputs": [
        {
          "output_type": "stream",
          "name": "stdout",
          "text": [
            "Epoch 1/20\n",
            "80/80 [==============================] - 1s 8ms/step - loss: 129.4211 - mae: 10.3013 - val_loss: 100.8893 - val_mae: 9.1232\n",
            "Epoch 2/20\n",
            "80/80 [==============================] - 1s 6ms/step - loss: 88.4882 - mae: 8.5691 - val_loss: 68.3009 - val_mae: 7.4398\n",
            "Epoch 3/20\n",
            "80/80 [==============================] - 1s 8ms/step - loss: 57.5362 - mae: 6.6574 - val_loss: 46.6074 - val_mae: 5.8034\n",
            "Epoch 4/20\n",
            "80/80 [==============================] - 0s 6ms/step - loss: 41.4961 - mae: 5.3986 - val_loss: 37.7072 - val_mae: 5.1108\n",
            "Epoch 5/20\n",
            "80/80 [==============================] - 0s 6ms/step - loss: 34.9857 - mae: 4.8864 - val_loss: 32.4718 - val_mae: 4.6773\n",
            "Epoch 6/20\n",
            "80/80 [==============================] - 0s 6ms/step - loss: 30.7524 - mae: 4.5403 - val_loss: 28.6414 - val_mae: 4.3274\n",
            "Epoch 7/20\n",
            "80/80 [==============================] - 0s 6ms/step - loss: 27.7763 - mae: 4.2886 - val_loss: 26.1857 - val_mae: 4.1051\n",
            "Epoch 8/20\n",
            "80/80 [==============================] - 1s 6ms/step - loss: 25.7333 - mae: 4.1180 - val_loss: 24.5040 - val_mae: 3.9518\n",
            "Epoch 9/20\n",
            "80/80 [==============================] - 1s 6ms/step - loss: 24.1469 - mae: 3.9904 - val_loss: 23.1175 - val_mae: 3.8321\n",
            "Epoch 10/20\n",
            "80/80 [==============================] - 1s 6ms/step - loss: 22.7445 - mae: 3.8739 - val_loss: 21.7895 - val_mae: 3.7172\n",
            "Epoch 11/20\n",
            "80/80 [==============================] - 1s 8ms/step - loss: 21.4103 - mae: 3.7593 - val_loss: 20.4948 - val_mae: 3.6017\n",
            "Epoch 12/20\n",
            "80/80 [==============================] - 1s 8ms/step - loss: 20.1202 - mae: 3.6449 - val_loss: 19.2300 - val_mae: 3.4890\n",
            "Epoch 13/20\n",
            "80/80 [==============================] - 0s 6ms/step - loss: 18.8808 - mae: 3.5303 - val_loss: 18.0434 - val_mae: 3.3828\n",
            "Epoch 14/20\n",
            "80/80 [==============================] - 1s 8ms/step - loss: 17.7182 - mae: 3.4182 - val_loss: 16.9501 - val_mae: 3.2828\n",
            "Epoch 15/20\n",
            "80/80 [==============================] - 1s 6ms/step - loss: 16.6468 - mae: 3.3114 - val_loss: 15.9833 - val_mae: 3.1870\n",
            "Epoch 16/20\n",
            "80/80 [==============================] - 1s 8ms/step - loss: 15.6701 - mae: 3.2108 - val_loss: 15.1307 - val_mae: 3.0979\n",
            "Epoch 17/20\n",
            "80/80 [==============================] - 1s 8ms/step - loss: 14.7885 - mae: 3.1158 - val_loss: 14.3750 - val_mae: 3.0154\n",
            "Epoch 18/20\n",
            "80/80 [==============================] - 0s 6ms/step - loss: 14.0080 - mae: 3.0294 - val_loss: 13.7174 - val_mae: 2.9417\n",
            "Epoch 19/20\n",
            "80/80 [==============================] - 0s 6ms/step - loss: 13.3035 - mae: 2.9499 - val_loss: 13.1451 - val_mae: 2.8775\n",
            "Epoch 20/20\n",
            "80/80 [==============================] - 0s 6ms/step - loss: 12.6774 - mae: 2.8769 - val_loss: 12.6609 - val_mae: 2.8220\n"
          ]
        }
      ]
    },
    {
      "cell_type": "code",
      "source": [
        "# Plot MAE cures for validation and training\n",
        "plot_hist_regression(history_dense, baseline)"
      ],
      "metadata": {
        "colab": {
          "base_uri": "https://localhost:8080/",
          "height": 279
        },
        "id": "aBRYn-AKMCi4",
        "outputId": "326f5869-2807-428a-e0a5-ea5999e29876"
      },
      "execution_count": 19,
      "outputs": [
        {
          "output_type": "display_data",
          "data": {
            "text/plain": [
              "<Figure size 432x288 with 1 Axes>"
            ],
            "image/png": "[encoded data removed]"
          },
          "metadata": {
            "needs_background": "light"
          }
        }
      ]
    },
    {
      "cell_type": "markdown",
      "source": [
        "Validation loss is worse than what we had with our common-sense baseline, and we're already overfitting (MAE on training set is lower than on validation set). It turns out our previous baseline is not as easy to outperform as we thought!\n",
        "\n",
        "Remember our 'hypothesis space'? Using 2 Dense layers doesn't seem to be very useful in this case. We need other types of layers for this problem."
      ],
      "metadata": {
        "id": "1EJywOA5NJa9"
      }
    },
    {
      "cell_type": "code",
      "source": [
        "# We know that CNNs take advantage of neighbouring values, so why don't we try that?\n",
        "\n",
        "# In addition to the Conv2D layers we saw last week, there are Conv1D and Conv3D layers. \n",
        "# Conv1D layers rely on 1D windows that slide across an input sequence (imagine a 1D image)\n",
        "\n",
        "model_cnn = models.Sequential()\n",
        "model_cnn.add(layers.Conv1D(8, 7, activation='relu', input_shape=(sequence_length, len(df.columns)-1)))\n",
        "model_cnn.add(layers.MaxPooling1D(2))\n",
        "model_cnn.add(layers.Conv1D(8, 3, activation='relu'))\n",
        "model_cnn.add(layers.MaxPooling1D(2))\n",
        "model_cnn.add(layers.GlobalAveragePooling1D())\n",
        "model_cnn.add(layers.Dense(1))\n",
        "\n",
        "model_cnn.summary()"
      ],
      "metadata": {
        "colab": {
          "base_uri": "https://localhost:8080/"
        },
        "id": "k6PADykQPIjq",
        "outputId": "19a5a18f-c015-48c9-d64d-8745191de703"
      },
      "execution_count": 20,
      "outputs": [
        {
          "output_type": "stream",
          "name": "stdout",
          "text": [
            "Model: \"sequential_1\"\n",
            "_________________________________________________________________\n",
            " Layer (type)                Output Shape              Param #   \n",
            "=================================================================\n",
            " conv1d (Conv1D)             (None, 8, 8)              344       \n",
            "                                                                 \n",
            " max_pooling1d (MaxPooling1D  (None, 4, 8)             0         \n",
            " )                                                               \n",
            "                                                                 \n",
            " conv1d_1 (Conv1D)           (None, 2, 8)              200       \n",
            "                                                                 \n",
            " max_pooling1d_1 (MaxPooling  (None, 1, 8)             0         \n",
            " 1D)                                                             \n",
            "                                                                 \n",
            " global_average_pooling1d (G  (None, 8)                0         \n",
            " lobalAveragePooling1D)                                          \n",
            "                                                                 \n",
            " dense_2 (Dense)             (None, 1)                 9         \n",
            "                                                                 \n",
            "=================================================================\n",
            "Total params: 553\n",
            "Trainable params: 553\n",
            "Non-trainable params: 0\n",
            "_________________________________________________________________\n"
          ]
        }
      ]
    },
    {
      "cell_type": "code",
      "source": [
        "model_cnn.compile(optimizer='rmsprop', loss='mse', metrics=['mae'])\n",
        "history_cnn = model_cnn.fit(train_dataset, epochs=n_epochs,\n",
        "                            validation_data=val_dataset)"
      ],
      "metadata": {
        "colab": {
          "base_uri": "https://localhost:8080/"
        },
        "id": "PSGRJSulQs22",
        "outputId": "02c46574-c414-4b25-c430-471572304b41"
      },
      "execution_count": 21,
      "outputs": [
        {
          "output_type": "stream",
          "name": "stdout",
          "text": [
            "Epoch 1/20\n",
            "80/80 [==============================] - 1s 8ms/step - loss: 126.5339 - mae: 10.0487 - val_loss: 100.2238 - val_mae: 8.6701\n",
            "Epoch 2/20\n",
            "80/80 [==============================] - 1s 8ms/step - loss: 75.0181 - mae: 7.6111 - val_loss: 47.1344 - val_mae: 5.8560\n",
            "Epoch 3/20\n",
            "80/80 [==============================] - 1s 8ms/step - loss: 26.0279 - mae: 4.2770 - val_loss: 18.2480 - val_mae: 3.3020\n",
            "Epoch 4/20\n",
            "80/80 [==============================] - 0s 6ms/step - loss: 15.0706 - mae: 3.1583 - val_loss: 16.7276 - val_mae: 3.0761\n",
            "Epoch 5/20\n",
            "80/80 [==============================] - 1s 6ms/step - loss: 13.5778 - mae: 2.9831 - val_loss: 15.7848 - val_mae: 2.9799\n",
            "Epoch 6/20\n",
            "80/80 [==============================] - 1s 6ms/step - loss: 12.5643 - mae: 2.8689 - val_loss: 14.9821 - val_mae: 2.9052\n",
            "Epoch 7/20\n",
            "80/80 [==============================] - 1s 7ms/step - loss: 11.8241 - mae: 2.7849 - val_loss: 14.4139 - val_mae: 2.8513\n",
            "Epoch 8/20\n",
            "80/80 [==============================] - 1s 8ms/step - loss: 11.2459 - mae: 2.7198 - val_loss: 13.9927 - val_mae: 2.8167\n",
            "Epoch 9/20\n",
            "80/80 [==============================] - 1s 8ms/step - loss: 10.8073 - mae: 2.6670 - val_loss: 13.6535 - val_mae: 2.7883\n",
            "Epoch 10/20\n",
            "80/80 [==============================] - 1s 7ms/step - loss: 10.4355 - mae: 2.6190 - val_loss: 13.3873 - val_mae: 2.7653\n",
            "Epoch 11/20\n",
            "80/80 [==============================] - 1s 7ms/step - loss: 10.1239 - mae: 2.5764 - val_loss: 13.1756 - val_mae: 2.7472\n",
            "Epoch 12/20\n",
            "80/80 [==============================] - 1s 6ms/step - loss: 9.8661 - mae: 2.5400 - val_loss: 12.9880 - val_mae: 2.7316\n",
            "Epoch 13/20\n",
            "80/80 [==============================] - 1s 7ms/step - loss: 9.6396 - mae: 2.5073 - val_loss: 12.7374 - val_mae: 2.7118\n",
            "Epoch 14/20\n",
            "80/80 [==============================] - 1s 7ms/step - loss: 9.4407 - mae: 2.4787 - val_loss: 12.5674 - val_mae: 2.6959\n",
            "Epoch 15/20\n",
            "80/80 [==============================] - 1s 9ms/step - loss: 9.2433 - mae: 2.4509 - val_loss: 12.3816 - val_mae: 2.6793\n",
            "Epoch 16/20\n",
            "80/80 [==============================] - 1s 7ms/step - loss: 9.0698 - mae: 2.4267 - val_loss: 12.2290 - val_mae: 2.6648\n",
            "Epoch 17/20\n",
            "80/80 [==============================] - 1s 6ms/step - loss: 8.9075 - mae: 2.4034 - val_loss: 12.0685 - val_mae: 2.6502\n",
            "Epoch 18/20\n",
            "80/80 [==============================] - 1s 7ms/step - loss: 8.7635 - mae: 2.3821 - val_loss: 11.8966 - val_mae: 2.6349\n",
            "Epoch 19/20\n",
            "80/80 [==============================] - 1s 8ms/step - loss: 8.6280 - mae: 2.3622 - val_loss: 11.7764 - val_mae: 2.6218\n",
            "Epoch 20/20\n",
            "80/80 [==============================] - 1s 8ms/step - loss: 8.4928 - mae: 2.3425 - val_loss: 11.6438 - val_mae: 2.6080\n"
          ]
        }
      ]
    },
    {
      "cell_type": "code",
      "source": [
        "# Plot MAE cures for validation and training\n",
        "plot_hist_regression(history_cnn, baseline)"
      ],
      "metadata": {
        "colab": {
          "base_uri": "https://localhost:8080/",
          "height": 279
        },
        "id": "6bB6lzLYSG-u",
        "outputId": "ffaf1b32-c969-4e0d-b8f6-d7a35b039baa"
      },
      "execution_count": 22,
      "outputs": [
        {
          "output_type": "display_data",
          "data": {
            "text/plain": [
              "<Figure size 432x288 with 1 Axes>"
            ],
            "image/png": "[encoded data removed]"
          },
          "metadata": {
            "needs_background": "light"
          }
        }
      ]
    },
    {
      "cell_type": "markdown",
      "source": [
        "This model isn't any better, with a validation MAE of 2.77 degrees (also worse than the 'common-sense approach' that we tried at first), and we're overfitting a bit too.\n",
        "\n",
        "Why?\n",
        "\n",
        "In timeseries, order matters a lot: the recent past is more informative than data from 5 days ago, and convolutional layers don't take advantage of this fact -- max pooling and global average pooling layers actually destroy this order information."
      ],
      "metadata": {
        "id": "Kc2iMPSHViL1"
      }
    },
    {
      "cell_type": "markdown",
      "metadata": {
        "id": "3ozUAZX__a0R"
      },
      "source": [
        "## Long Short Term Memory (LSTM) Neural Networks\n",
        "\n",
        "\n"
      ]
    },
    {
      "cell_type": "code",
      "execution_count": 23,
      "metadata": {
        "id": "2dWfiaUw_a0R",
        "colab": {
          "base_uri": "https://localhost:8080/"
        },
        "outputId": "d178957c-c0e1-479e-9a3b-0de485bf4d2b"
      },
      "outputs": [
        {
          "output_type": "stream",
          "name": "stdout",
          "text": [
            "Model: \"sequential_2\"\n",
            "_________________________________________________________________\n",
            " Layer (type)                Output Shape              Param #   \n",
            "=================================================================\n",
            " lstm (LSTM)                 (None, 20)                2160      \n",
            "                                                                 \n",
            " dense_3 (Dense)             (None, 1)                 21        \n",
            "                                                                 \n",
            "=================================================================\n",
            "Total params: 2,181\n",
            "Trainable params: 2,181\n",
            "Non-trainable params: 0\n",
            "_________________________________________________________________\n"
          ]
        }
      ],
      "source": [
        "# 1-layer LSTM\n",
        "\n",
        "model_lstm1 = models.Sequential()\n",
        "model_lstm1.add(layers.LSTM(20, input_shape=(sequence_length, len(df.columns)-1)))\n",
        "model_lstm1.add(layers.Dense(1))\n",
        "\n",
        "model_lstm1.summary()"
      ]
    },
    {
      "cell_type": "code",
      "source": [
        "n_epochs = 20"
      ],
      "metadata": {
        "id": "DMst2Mp0R0Xi"
      },
      "execution_count": 24,
      "outputs": []
    },
    {
      "cell_type": "code",
      "source": [
        "model_lstm1.compile(optimizer='rmsprop', loss='mse', metrics=['mae'])\n",
        "history_lstm1 = model_lstm1.fit(train_dataset, epochs=n_epochs,\n",
        "                            validation_data=val_dataset)"
      ],
      "metadata": {
        "colab": {
          "base_uri": "https://localhost:8080/"
        },
        "id": "Pff2tZQHXb-z",
        "outputId": "e0d81e54-08a0-4fab-91c5-ac08ffe4b5bd"
      },
      "execution_count": 25,
      "outputs": [
        {
          "output_type": "stream",
          "name": "stdout",
          "text": [
            "Epoch 1/20\n",
            "80/80 [==============================] - 3s 19ms/step - loss: 132.0431 - mae: 10.4439 - val_loss: 112.6215 - val_mae: 9.5209\n",
            "Epoch 2/20\n",
            "80/80 [==============================] - 1s 12ms/step - loss: 88.0976 - mae: 8.3187 - val_loss: 62.0968 - val_mae: 6.5618\n",
            "Epoch 3/20\n",
            "80/80 [==============================] - 1s 13ms/step - loss: 47.5638 - mae: 5.6911 - val_loss: 38.8148 - val_mae: 4.9235\n",
            "Epoch 4/20\n",
            "80/80 [==============================] - 1s 12ms/step - loss: 32.6836 - mae: 4.6516 - val_loss: 29.6015 - val_mae: 4.3005\n",
            "Epoch 5/20\n",
            "80/80 [==============================] - 1s 13ms/step - loss: 25.1975 - mae: 4.0708 - val_loss: 24.1449 - val_mae: 3.9054\n",
            "Epoch 6/20\n",
            "80/80 [==============================] - 1s 13ms/step - loss: 20.4023 - mae: 3.6568 - val_loss: 20.3557 - val_mae: 3.5945\n",
            "Epoch 7/20\n",
            "80/80 [==============================] - 1s 13ms/step - loss: 17.0252 - mae: 3.3428 - val_loss: 17.5014 - val_mae: 3.3358\n",
            "Epoch 8/20\n",
            "80/80 [==============================] - 1s 12ms/step - loss: 14.5330 - mae: 3.0850 - val_loss: 15.3378 - val_mae: 3.1257\n",
            "Epoch 9/20\n",
            "80/80 [==============================] - 1s 12ms/step - loss: 12.5093 - mae: 2.8540 - val_loss: 13.6267 - val_mae: 2.9463\n",
            "Epoch 10/20\n",
            "80/80 [==============================] - 1s 12ms/step - loss: 10.8945 - mae: 2.6531 - val_loss: 12.1575 - val_mae: 2.7874\n",
            "Epoch 11/20\n",
            "80/80 [==============================] - 1s 13ms/step - loss: 9.6690 - mae: 2.4893 - val_loss: 11.0157 - val_mae: 2.6555\n",
            "Epoch 12/20\n",
            "80/80 [==============================] - 1s 13ms/step - loss: 8.6555 - mae: 2.3495 - val_loss: 10.0856 - val_mae: 2.5411\n",
            "Epoch 13/20\n",
            "80/80 [==============================] - 1s 12ms/step - loss: 7.8220 - mae: 2.2286 - val_loss: 9.3537 - val_mae: 2.4568\n",
            "Epoch 14/20\n",
            "80/80 [==============================] - 1s 12ms/step - loss: 7.1987 - mae: 2.1383 - val_loss: 8.8041 - val_mae: 2.3944\n",
            "Epoch 15/20\n",
            "80/80 [==============================] - 1s 13ms/step - loss: 6.7652 - mae: 2.0764 - val_loss: 8.3568 - val_mae: 2.3417\n",
            "Epoch 16/20\n",
            "80/80 [==============================] - 1s 12ms/step - loss: 6.4376 - mae: 2.0253 - val_loss: 7.9889 - val_mae: 2.2925\n",
            "Epoch 17/20\n",
            "80/80 [==============================] - 1s 12ms/step - loss: 6.1783 - mae: 1.9850 - val_loss: 7.6808 - val_mae: 2.2480\n",
            "Epoch 18/20\n",
            "80/80 [==============================] - 1s 13ms/step - loss: 5.9609 - mae: 1.9507 - val_loss: 7.4195 - val_mae: 2.2081\n",
            "Epoch 19/20\n",
            "80/80 [==============================] - 1s 13ms/step - loss: 5.7719 - mae: 1.9180 - val_loss: 7.1955 - val_mae: 2.1724\n",
            "Epoch 20/20\n",
            "80/80 [==============================] - 1s 12ms/step - loss: 5.6013 - mae: 1.8879 - val_loss: 7.0016 - val_mae: 2.1397\n"
          ]
        }
      ]
    },
    {
      "cell_type": "code",
      "source": [
        "# Plot MAE cures for validation and training\n",
        "plot_hist_regression(history_lstm1, baseline)\n"
      ],
      "metadata": {
        "colab": {
          "base_uri": "https://localhost:8080/",
          "height": 279
        },
        "id": "hr-bgDUvXmvS",
        "outputId": "d18a9170-76e3-4c65-c415-9d51d64eeb66"
      },
      "execution_count": 26,
      "outputs": [
        {
          "output_type": "display_data",
          "data": {
            "text/plain": [
              "<Figure size 432x288 with 1 Axes>"
            ],
            "image/png": "[encoded data removed]"
          },
          "metadata": {
            "needs_background": "light"
          }
        }
      ]
    },
    {
      "cell_type": "code",
      "source": [
        "print('Test MAE = %.2f degrees' % model_lstm1.evaluate(test_dataset)[1])"
      ],
      "metadata": {
        "colab": {
          "base_uri": "https://localhost:8080/"
        },
        "id": "0fFZvXXUcQ67",
        "outputId": "ef1f1419-deae-4aa5-ed86-ea9871f37e1b"
      },
      "execution_count": 27,
      "outputs": [
        {
          "output_type": "stream",
          "name": "stdout",
          "text": [
            "31/31 [==============================] - 0s 5ms/step - loss: 8.1353 - mae: 2.2353\n",
            "Test MAE = 2.24 degrees\n"
          ]
        }
      ]
    },
    {
      "cell_type": "markdown",
      "source": [
        "Success! We finally beat the common-sense baseline! The validation MAE now is 2.12 degrees, and the test MAE is 2.27.\n",
        "\n",
        "Why do LSTM layers work? Let's go back to the slides"
      ],
      "metadata": {
        "id": "bYSWwI1aXvwL"
      }
    },
    {
      "cell_type": "code",
      "source": [
        "# Adding dropout\n",
        "\n",
        "model_lstm2 = models.Sequential()\n",
        "model_lstm2.add(layers.LSTM(20, input_shape=(sequence_length, len(df.columns)-1), recurrent_dropout=0.25))\n",
        "model_lstm2.add(layers.Dropout(0.4))\n",
        "model_lstm2.add(layers.Dense(1))\n",
        "\n",
        "model_lstm2.summary()"
      ],
      "metadata": {
        "id": "acSYakeOcokB",
        "colab": {
          "base_uri": "https://localhost:8080/"
        },
        "outputId": "0ad21d9a-fb91-456e-9adb-af0366af2265"
      },
      "execution_count": 28,
      "outputs": [
        {
          "output_type": "stream",
          "name": "stdout",
          "text": [
            "Model: \"sequential_3\"\n",
            "_________________________________________________________________\n",
            " Layer (type)                Output Shape              Param #   \n",
            "=================================================================\n",
            " lstm_1 (LSTM)               (None, 20)                2160      \n",
            "                                                                 \n",
            " dropout (Dropout)           (None, 20)                0         \n",
            "                                                                 \n",
            " dense_4 (Dense)             (None, 1)                 21        \n",
            "                                                                 \n",
            "=================================================================\n",
            "Total params: 2,181\n",
            "Trainable params: 2,181\n",
            "Non-trainable params: 0\n",
            "_________________________________________________________________\n"
          ]
        }
      ]
    },
    {
      "cell_type": "code",
      "source": [
        "model_lstm2.compile(optimizer='rmsprop', loss='mse', metrics=['mae'])\n",
        "history_lstm2 = model_lstm2.fit(train_dataset, epochs=n_epochs,\n",
        "                            validation_data=val_dataset)"
      ],
      "metadata": {
        "colab": {
          "base_uri": "https://localhost:8080/"
        },
        "id": "LvRnf9TWSWf9",
        "outputId": "6812db13-974e-4ecb-f362-a1bfccdbd966"
      },
      "execution_count": 29,
      "outputs": [
        {
          "output_type": "stream",
          "name": "stdout",
          "text": [
            "Epoch 1/20\n",
            "80/80 [==============================] - 4s 23ms/step - loss: 135.3352 - mae: 10.5377 - val_loss: 115.1110 - val_mae: 9.6258\n",
            "Epoch 2/20\n",
            "80/80 [==============================] - 1s 17ms/step - loss: 95.1816 - mae: 8.6595 - val_loss: 69.6212 - val_mae: 6.9562\n",
            "Epoch 3/20\n",
            "80/80 [==============================] - 1s 17ms/step - loss: 59.0700 - mae: 6.3933 - val_loss: 48.5956 - val_mae: 5.5157\n",
            "Epoch 4/20\n",
            "80/80 [==============================] - 1s 18ms/step - loss: 45.7843 - mae: 5.5451 - val_loss: 38.5284 - val_mae: 4.8666\n",
            "Epoch 5/20\n",
            "80/80 [==============================] - 1s 17ms/step - loss: 36.8693 - mae: 4.9258 - val_loss: 31.9314 - val_mae: 4.4652\n",
            "Epoch 6/20\n",
            "80/80 [==============================] - 1s 17ms/step - loss: 30.4915 - mae: 4.4853 - val_loss: 26.5785 - val_mae: 4.0845\n",
            "Epoch 7/20\n",
            "80/80 [==============================] - 1s 17ms/step - loss: 26.2996 - mae: 4.1194 - val_loss: 22.3536 - val_mae: 3.7614\n",
            "Epoch 8/20\n",
            "80/80 [==============================] - 1s 17ms/step - loss: 22.5603 - mae: 3.7958 - val_loss: 18.8816 - val_mae: 3.4609\n",
            "Epoch 9/20\n",
            "80/80 [==============================] - 1s 17ms/step - loss: 19.0668 - mae: 3.4986 - val_loss: 16.3270 - val_mae: 3.2197\n",
            "Epoch 10/20\n",
            "80/80 [==============================] - 1s 17ms/step - loss: 16.6831 - mae: 3.2550 - val_loss: 14.2814 - val_mae: 3.0029\n",
            "Epoch 11/20\n",
            "80/80 [==============================] - 1s 18ms/step - loss: 15.8044 - mae: 3.1467 - val_loss: 12.7239 - val_mae: 2.8352\n",
            "Epoch 12/20\n",
            "80/80 [==============================] - 1s 18ms/step - loss: 14.5350 - mae: 3.0362 - val_loss: 11.4075 - val_mae: 2.6836\n",
            "Epoch 13/20\n",
            "80/80 [==============================] - 1s 18ms/step - loss: 13.3041 - mae: 2.8773 - val_loss: 10.5037 - val_mae: 2.5824\n",
            "Epoch 14/20\n",
            "80/80 [==============================] - 1s 17ms/step - loss: 12.1061 - mae: 2.7620 - val_loss: 9.6291 - val_mae: 2.4662\n",
            "Epoch 15/20\n",
            "80/80 [==============================] - 1s 17ms/step - loss: 12.3376 - mae: 2.7779 - val_loss: 9.2465 - val_mae: 2.4273\n",
            "Epoch 16/20\n",
            "80/80 [==============================] - 1s 17ms/step - loss: 12.6502 - mae: 2.8259 - val_loss: 8.7483 - val_mae: 2.3579\n",
            "Epoch 17/20\n",
            "80/80 [==============================] - 1s 18ms/step - loss: 12.2102 - mae: 2.7550 - val_loss: 8.2453 - val_mae: 2.2890\n",
            "Epoch 18/20\n",
            "80/80 [==============================] - 1s 17ms/step - loss: 10.8526 - mae: 2.6133 - val_loss: 8.0566 - val_mae: 2.2729\n",
            "Epoch 19/20\n",
            "80/80 [==============================] - 1s 18ms/step - loss: 10.9653 - mae: 2.6476 - val_loss: 7.8357 - val_mae: 2.2519\n",
            "Epoch 20/20\n",
            "80/80 [==============================] - 1s 17ms/step - loss: 10.7369 - mae: 2.5763 - val_loss: 7.5275 - val_mae: 2.2080\n"
          ]
        }
      ]
    },
    {
      "cell_type": "code",
      "source": [
        "# Plot MAE cures for validation and training\n",
        "plot_hist_regression(history_lstm2, baseline)"
      ],
      "metadata": {
        "colab": {
          "base_uri": "https://localhost:8080/",
          "height": 279
        },
        "id": "cWpm-j9iSck1",
        "outputId": "5970d7dc-9c64-47b4-9f43-26b3037d5815"
      },
      "execution_count": 30,
      "outputs": [
        {
          "output_type": "display_data",
          "data": {
            "text/plain": [
              "<Figure size 432x288 with 1 Axes>"
            ],
            "image/png": "[encoded data removed]"
          },
          "metadata": {
            "needs_background": "light"
          }
        }
      ]
    },
    {
      "cell_type": "code",
      "source": [
        "print('Test MAE = %.2f degrees' % model_lstm2.evaluate(test_dataset)[1])"
      ],
      "metadata": {
        "colab": {
          "base_uri": "https://localhost:8080/"
        },
        "id": "rAIQrQDVSmSM",
        "outputId": "5e545746-eb5a-4476-eeb0-cc8ee3fa1d59"
      },
      "execution_count": 31,
      "outputs": [
        {
          "output_type": "stream",
          "name": "stdout",
          "text": [
            "31/31 [==============================] - 0s 6ms/step - loss: 8.2974 - mae: 2.2696\n",
            "Test MAE = 2.27 degrees\n"
          ]
        }
      ]
    },
    {
      "cell_type": "markdown",
      "source": [
        "Note that validation set MAE is now lower than MAE on training set -- no longer overfitting. Validation MAE is 2.16 and test MAE is also 2.16.\n",
        "\n",
        "NOTE: This is a very simple dataset with very small differences in performance between different models.  You'll just have to take my word for it that *in general* this approach works. "
      ],
      "metadata": {
        "id": "H3OrpvE3S4gM"
      }
    },
    {
      "cell_type": "code",
      "source": [
        "# Performance in the previous figure can (maybe) still be improved\n",
        "# Let's try to add some more layers -- we can do this now that we're no longer overfitting\n",
        "\n",
        "model_lstm3 = models.Sequential()\n",
        "model_lstm3.add(layers.LSTM(20, input_shape=(sequence_length, len(df.columns)-1), recurrent_dropout=0.25, return_sequences=True))  # NEW!\n",
        "model_lstm3.add(layers.LSTM(20, input_shape=(sequence_length, len(df.columns)-1), recurrent_dropout=0.25))  # NEW!!\n",
        "model_lstm3.add(layers.Dropout(0.4))\n",
        "model_lstm3.add(layers.Dense(1))\n",
        "model_lstm3.summary()"
      ],
      "metadata": {
        "colab": {
          "base_uri": "https://localhost:8080/"
        },
        "id": "jq_ZDTttTX6_",
        "outputId": "44cf94b1-9e9c-49d0-acbb-4511c649a8a4"
      },
      "execution_count": 32,
      "outputs": [
        {
          "output_type": "stream",
          "name": "stdout",
          "text": [
            "Model: \"sequential_4\"\n",
            "_________________________________________________________________\n",
            " Layer (type)                Output Shape              Param #   \n",
            "=================================================================\n",
            " lstm_2 (LSTM)               (None, 14, 20)            2160      \n",
            "                                                                 \n",
            " lstm_3 (LSTM)               (None, 20)                3280      \n",
            "                                                                 \n",
            " dropout_1 (Dropout)         (None, 20)                0         \n",
            "                                                                 \n",
            " dense_5 (Dense)             (None, 1)                 21        \n",
            "                                                                 \n",
            "=================================================================\n",
            "Total params: 5,461\n",
            "Trainable params: 5,461\n",
            "Non-trainable params: 0\n",
            "_________________________________________________________________\n"
          ]
        }
      ]
    },
    {
      "cell_type": "code",
      "source": [
        "model_lstm3.compile(optimizer='rmsprop', loss='mse', metrics=['mae'])\n",
        "\n",
        "callbacks = [EarlyStopping(monitor='val_mae', patience=2)]\n",
        "\n",
        "history_lstm3 = model_lstm3.fit(train_dataset, epochs=60,  # increased number of epochs\n",
        "                            validation_data=val_dataset,\n",
        "                            callbacks=callbacks)  # but added early stopping callback\n"
      ],
      "metadata": {
        "colab": {
          "base_uri": "https://localhost:8080/"
        },
        "id": "9xQXChtNUxzh",
        "outputId": "baa8184c-314b-4d23-e6fe-63ebf49d8739"
      },
      "execution_count": 33,
      "outputs": [
        {
          "output_type": "stream",
          "name": "stdout",
          "text": [
            "Epoch 1/60\n",
            "80/80 [==============================] - 7s 34ms/step - loss: 116.1383 - mae: 9.5478 - val_loss: 70.0403 - val_mae: 6.8706\n",
            "Epoch 2/60\n",
            "80/80 [==============================] - 2s 27ms/step - loss: 57.2943 - mae: 6.2902 - val_loss: 44.2678 - val_mae: 5.2331\n",
            "Epoch 3/60\n",
            "80/80 [==============================] - 2s 28ms/step - loss: 40.9963 - mae: 5.2422 - val_loss: 37.6162 - val_mae: 4.9678\n",
            "Epoch 4/60\n",
            "80/80 [==============================] - 2s 28ms/step - loss: 33.1282 - mae: 4.7006 - val_loss: 30.9215 - val_mae: 4.4827\n",
            "Epoch 5/60\n",
            "80/80 [==============================] - 2s 28ms/step - loss: 27.8734 - mae: 4.2436 - val_loss: 25.2460 - val_mae: 4.0129\n",
            "Epoch 6/60\n",
            "80/80 [==============================] - 2s 28ms/step - loss: 24.5547 - mae: 4.0166 - val_loss: 21.7221 - val_mae: 3.7178\n",
            "Epoch 7/60\n",
            "80/80 [==============================] - 2s 27ms/step - loss: 21.5533 - mae: 3.7218 - val_loss: 19.0769 - val_mae: 3.4859\n",
            "Epoch 8/60\n",
            "80/80 [==============================] - 2s 28ms/step - loss: 20.4269 - mae: 3.6239 - val_loss: 17.8636 - val_mae: 3.4030\n",
            "Epoch 9/60\n",
            "80/80 [==============================] - 2s 29ms/step - loss: 18.2690 - mae: 3.4248 - val_loss: 15.1148 - val_mae: 3.0788\n",
            "Epoch 10/60\n",
            "80/80 [==============================] - 2s 28ms/step - loss: 16.4112 - mae: 3.2360 - val_loss: 14.1105 - val_mae: 3.0113\n",
            "Epoch 11/60\n",
            "80/80 [==============================] - 2s 28ms/step - loss: 15.1853 - mae: 3.1200 - val_loss: 13.5384 - val_mae: 2.9714\n",
            "Epoch 12/60\n",
            "80/80 [==============================] - 2s 28ms/step - loss: 14.5482 - mae: 3.0180 - val_loss: 11.9413 - val_mae: 2.7727\n",
            "Epoch 13/60\n",
            "80/80 [==============================] - 2s 29ms/step - loss: 13.6366 - mae: 2.9344 - val_loss: 10.6607 - val_mae: 2.6151\n",
            "Epoch 14/60\n",
            "80/80 [==============================] - 2s 28ms/step - loss: 13.2272 - mae: 2.9270 - val_loss: 10.6203 - val_mae: 2.6280\n",
            "Epoch 15/60\n",
            "80/80 [==============================] - 2s 29ms/step - loss: 12.1141 - mae: 2.7414 - val_loss: 9.8837 - val_mae: 2.5392\n",
            "Epoch 16/60\n",
            "80/80 [==============================] - 2s 29ms/step - loss: 12.1964 - mae: 2.8057 - val_loss: 10.2002 - val_mae: 2.5891\n",
            "Epoch 17/60\n",
            "80/80 [==============================] - 2s 28ms/step - loss: 11.8811 - mae: 2.7167 - val_loss: 9.5275 - val_mae: 2.4989\n",
            "Epoch 18/60\n",
            "80/80 [==============================] - 2s 28ms/step - loss: 11.0116 - mae: 2.6375 - val_loss: 8.7698 - val_mae: 2.4017\n",
            "Epoch 19/60\n",
            "80/80 [==============================] - 2s 28ms/step - loss: 11.1369 - mae: 2.6651 - val_loss: 8.9533 - val_mae: 2.4372\n",
            "Epoch 20/60\n",
            "80/80 [==============================] - 2s 28ms/step - loss: 10.7403 - mae: 2.6252 - val_loss: 8.2119 - val_mae: 2.3286\n",
            "Epoch 21/60\n",
            "80/80 [==============================] - 2s 29ms/step - loss: 11.5329 - mae: 2.7016 - val_loss: 8.2783 - val_mae: 2.3449\n",
            "Epoch 22/60\n",
            "80/80 [==============================] - 2s 28ms/step - loss: 10.6778 - mae: 2.6177 - val_loss: 7.7826 - val_mae: 2.2739\n",
            "Epoch 23/60\n",
            "80/80 [==============================] - 2s 29ms/step - loss: 10.3459 - mae: 2.5779 - val_loss: 7.6309 - val_mae: 2.2506\n",
            "Epoch 24/60\n",
            "80/80 [==============================] - 2s 28ms/step - loss: 10.1661 - mae: 2.5697 - val_loss: 7.7656 - val_mae: 2.2729\n",
            "Epoch 25/60\n",
            "80/80 [==============================] - 2s 28ms/step - loss: 10.4385 - mae: 2.5488 - val_loss: 7.5830 - val_mae: 2.2342\n",
            "Epoch 26/60\n",
            "80/80 [==============================] - 2s 28ms/step - loss: 10.1917 - mae: 2.5655 - val_loss: 7.2236 - val_mae: 2.1767\n",
            "Epoch 27/60\n",
            "80/80 [==============================] - 2s 28ms/step - loss: 10.3812 - mae: 2.5508 - val_loss: 7.0931 - val_mae: 2.1589\n",
            "Epoch 28/60\n",
            "80/80 [==============================] - 2s 29ms/step - loss: 9.7811 - mae: 2.4900 - val_loss: 7.3677 - val_mae: 2.2047\n",
            "Epoch 29/60\n",
            "80/80 [==============================] - 2s 27ms/step - loss: 9.4098 - mae: 2.4053 - val_loss: 6.6592 - val_mae: 2.0878\n",
            "Epoch 30/60\n",
            "80/80 [==============================] - 2s 28ms/step - loss: 9.5236 - mae: 2.4614 - val_loss: 6.9152 - val_mae: 2.1303\n",
            "Epoch 31/60\n",
            "80/80 [==============================] - 2s 28ms/step - loss: 9.1470 - mae: 2.4147 - val_loss: 6.6892 - val_mae: 2.0887\n"
          ]
        }
      ]
    },
    {
      "cell_type": "code",
      "source": [
        "# Plot MAE cures for validation and training\n",
        "plot_hist_regression(history_lstm3, baseline)\n",
        "print('Test MAE = %.2f degrees' % model_lstm3.evaluate(test_dataset)[1])"
      ],
      "metadata": {
        "colab": {
          "base_uri": "https://localhost:8080/",
          "height": 314
        },
        "id": "PtFfB3YaU4k3",
        "outputId": "391955a8-c131-4d70-b2ad-41a26e9b4310"
      },
      "execution_count": 34,
      "outputs": [
        {
          "output_type": "display_data",
          "data": {
            "text/plain": [
              "<Figure size 432x288 with 1 Axes>"
            ],
            "image/png": "[encoded data removed]"
          },
          "metadata": {
            "needs_background": "light"
          }
        },
        {
          "output_type": "stream",
          "name": "stdout",
          "text": [
            "31/31 [==============================] - 0s 7ms/step - loss: 7.9382 - mae: 2.1872\n",
            "Test MAE = 2.19 degrees\n"
          ]
        }
      ]
    },
    {
      "cell_type": "markdown",
      "source": [
        "Validation MAE = 1.92 degrees\n",
        "\n",
        "Test MAE = 1.89 degrees\n"
      ],
      "metadata": {
        "id": "eUJqRqp1XJnL"
      }
    },
    {
      "cell_type": "markdown",
      "source": [
        "# Text"
      ],
      "metadata": {
        "id": "zGEuNqw2csXj"
      }
    },
    {
      "cell_type": "markdown",
      "source": [
        "## Data prep\n",
        "\n",
        "We'll try to predict whether the review for a movie is positive or negative looking only at the text of the review.\n",
        "\n",
        "We'll use the IMDB text dataset for this task, which is available on `keras.datasets` and described [here](https://keras.io/api/datasets/imdb/). \n",
        "\n",
        "We'll merge the training and test sets and use 60% for training, 20% for validation, and 20% for testing.\n",
        "\n",
        "\n",
        "As this is a binary classificationp problem, we'll use the binary cross entropy loss function. We will keep track of accuracy when training and evaluating the model.\n"
      ],
      "metadata": {
        "id": "dtv0EjsTbwvm"
      }
    },
    {
      "cell_type": "code",
      "source": [
        "def plot_hist_classif(hist):\n",
        "  n_ = len(hist.history['accuracy'])\n",
        "  plt.plot(range(1, n_+1), 100*np.asarray(hist.history['accuracy']), 'bo', label='Accuracy on training set')\n",
        "  plt.plot(range(1, n_+1), 100*np.asarray(hist.history['val_accuracy']), 'b', label='Accuracy on validation set')\n",
        "  plt.legend()\n",
        "  plt.xlabel(\"Epoch\") \n",
        "  plt.ylabel(\"Accuracy\")\n",
        "  plt.ylim(0, 100)\n",
        "  plt.axhline(y=50)\n",
        "  plt.show()\n"
      ],
      "metadata": {
        "id": "i-mH-8IGwGo1"
      },
      "execution_count": 35,
      "outputs": []
    },
    {
      "cell_type": "code",
      "source": [
        "max_features = 15000  # only consider the top 15k words\n",
        "maxlen = 500  # first 500 words of each review\n",
        "batch_size = 32\n",
        "\n",
        "print('Loading data...')\n",
        "# Load dataset\n",
        "(x_train, y_train), (x_test, y_test) = keras.datasets.imdb.load_data(num_words=max_features)\n",
        "print(len(x_train), 'train sequences', x_train.shape)\n",
        "print(len(x_test), 'test sequences', x_test.shape)"
      ],
      "metadata": {
        "colab": {
          "base_uri": "https://localhost:8080/"
        },
        "id": "4TW3Vg49n5V-",
        "outputId": "c8b71ee6-8f7e-4148-ca1e-491c2df6746a"
      },
      "execution_count": 36,
      "outputs": [
        {
          "output_type": "stream",
          "name": "stdout",
          "text": [
            "Loading data...\n",
            "Downloading data from https://storage.googleapis.com/tensorflow/tf-keras-datasets/imdb.npz\n",
            "17465344/17464789 [==============================] - 0s 0us/step\n",
            "17473536/17464789 [==============================] - 0s 0us/step\n",
            "25000 train sequences (25000,)\n",
            "25000 test sequences (25000,)\n"
          ]
        }
      ]
    },
    {
      "cell_type": "code",
      "source": [
        "# How balanced is this dataset?\n",
        "print(np.sum(y_train)/len(y_train))\n",
        "print(np.sum(y_test)/len(y_test))"
      ],
      "metadata": {
        "colab": {
          "base_uri": "https://localhost:8080/"
        },
        "id": "8ApTb-jYtSOm",
        "outputId": "db33ee06-dcd5-4679-f2b6-30d087574664"
      },
      "execution_count": 37,
      "outputs": [
        {
          "output_type": "stream",
          "name": "stdout",
          "text": [
            "0.5\n",
            "0.5\n"
          ]
        }
      ]
    },
    {
      "cell_type": "code",
      "source": [
        "# Merge the two datasets and divide: 60% for training, 20% validation, 20% test\n",
        "x_, y_ = np.concatenate((x_train, x_test)), np.concatenate((y_train, y_test))\n",
        "print(x_.shape, y_.shape)\n",
        "x_train, x_test, y_train, y_test = train_test_split(x_, y_, test_size=0.4, random_state=10)  # 60/40 split\n",
        "x_val, x_test, y_val, y_test = train_test_split(x_test, y_test, test_size=0.5, random_state=10)  # 50/50 split\n",
        "print(len(x_train), 'train sequences', x_train.shape)\n",
        "print(len(x_val), 'validation sequences', x_val.shape)\n",
        "print(len(x_test), 'test sequences', x_test.shape)"
      ],
      "metadata": {
        "colab": {
          "base_uri": "https://localhost:8080/"
        },
        "id": "Z53Fbicqr8tm",
        "outputId": "1aa0c326-9ba2-43d1-ddd0-64abca966c11"
      },
      "execution_count": 38,
      "outputs": [
        {
          "output_type": "stream",
          "name": "stdout",
          "text": [
            "(50000,) (50000,)\n",
            "30000 train sequences (30000,)\n",
            "10000 validation sequences (10000,)\n",
            "10000 test sequences (10000,)\n"
          ]
        }
      ]
    },
    {
      "cell_type": "code",
      "source": [
        "x_train[0][:10]  # numbers!!"
      ],
      "metadata": {
        "colab": {
          "base_uri": "https://localhost:8080/"
        },
        "id": "5v_Hy-r8o8pR",
        "outputId": "362dd45c-1a2d-483e-ecd3-cbe118411f49"
      },
      "execution_count": 39,
      "outputs": [
        {
          "output_type": "execute_result",
          "data": {
            "text/plain": [
              "[1, 11531, 186, 8, 28, 6, 6482, 7, 269, 4042]"
            ]
          },
          "metadata": {},
          "execution_count": 39
        }
      ]
    },
    {
      "cell_type": "code",
      "source": [
        "# We can explore what one of the reviews looks like at this point.\n",
        "\n",
        "# Retrieve the word index file that maps words to indices\n",
        "word_index = keras.datasets.imdb.get_word_index()\n",
        "# Reverse the word index to obtain a dict mapping indices to words (which is what we have)\n",
        "inverted_word_index = dict((i, word) for (word, i) in word_index.items())\n",
        "# Decode the first sequence in the dataset\n",
        "decoded_sequence = \" \".join(inverted_word_index[i] for i in x_train[0])\n",
        "decoded_sequence"
      ],
      "metadata": {
        "colab": {
          "base_uri": "https://localhost:8080/",
          "height": 124
        },
        "id": "rgEgNSLBpFwh",
        "outputId": "2b944afd-73df-4e5b-edac-c1a2aa449190"
      },
      "execution_count": 40,
      "outputs": [
        {
          "output_type": "stream",
          "name": "stdout",
          "text": [
            "Downloading data from https://storage.googleapis.com/tensorflow/tf-keras-datasets/imdb_word_index.json\n",
            "1646592/1641221 [==============================] - 0s 0us/step\n",
            "1654784/1641221 [==============================] - 0s 0us/step\n"
          ]
        },
        {
          "output_type": "execute_result",
          "data": {
            "text/plain": [
              "\"the lilly horror in one is fatale br looks meaningless in bronson be showing as you debut film ample to and ingredients zombi ample they for series and thought she's all manipulate and believing in j show look early last quote desire tight interesting that's kind out is far shelter but of frame br and\""
            ],
            "application/vnd.google.colaboratory.intrinsic+json": {
              "type": "string"
            }
          },
          "metadata": {},
          "execution_count": 40
        }
      ]
    },
    {
      "cell_type": "code",
      "source": [
        "# Let's ensure all sequences have the same length through padding\n",
        "# - shorter reviews are padded with 0's\n",
        "# - longer reviews are cut\n",
        "print('Pad sequences')\n",
        "x_train = keras.preprocessing.sequence.pad_sequences(x_train, maxlen=maxlen)\n",
        "x_val = keras.preprocessing.sequence.pad_sequences(x_val, maxlen=maxlen)\n",
        "x_test = keras.preprocessing.sequence.pad_sequences(x_test, maxlen=maxlen)\n",
        "print('x_train shape:', x_train.shape)\n",
        "print('x_val shape:', x_val.shape)\n",
        "print('x_test shape:', x_test.shape)"
      ],
      "metadata": {
        "colab": {
          "base_uri": "https://localhost:8080/"
        },
        "id": "ibmO0V-gcthG",
        "outputId": "1f253f17-823f-41ff-86a8-13c40072f186"
      },
      "execution_count": 41,
      "outputs": [
        {
          "output_type": "stream",
          "name": "stdout",
          "text": [
            "Pad sequences\n",
            "x_train shape: (30000, 500)\n",
            "x_val shape: (10000, 500)\n",
            "x_test shape: (10000, 500)\n"
          ]
        }
      ]
    },
    {
      "cell_type": "code",
      "source": [
        "# Basic feedforward model\n",
        "model = models.Sequential()\n",
        "model.add(layers.Embedding(max_features, 128, input_length=maxlen))\n",
        "model.add(layers.Dense(64, activation='relu'))\n",
        "model.add(layers.Dropout(0.5))\n",
        "model.add(layers.Dense(64, activation='relu'))\n",
        "model.add(layers.Dropout(0.5))\n",
        "model.add(layers.Flatten())\n",
        "model.add(layers.Dense(1, activation=\"sigmoid\"))\n",
        "model.summary()"
      ],
      "metadata": {
        "colab": {
          "base_uri": "https://localhost:8080/"
        },
        "id": "sBpQpwBAk44H",
        "outputId": "5a1f8588-08ff-4005-be9f-946daf526007"
      },
      "execution_count": 42,
      "outputs": [
        {
          "output_type": "stream",
          "name": "stdout",
          "text": [
            "Model: \"sequential_5\"\n",
            "_________________________________________________________________\n",
            " Layer (type)                Output Shape              Param #   \n",
            "=================================================================\n",
            " embedding (Embedding)       (None, 500, 128)          1920000   \n",
            "                                                                 \n",
            " dense_6 (Dense)             (None, 500, 64)           8256      \n",
            "                                                                 \n",
            " dropout_2 (Dropout)         (None, 500, 64)           0         \n",
            "                                                                 \n",
            " dense_7 (Dense)             (None, 500, 64)           4160      \n",
            "                                                                 \n",
            " dropout_3 (Dropout)         (None, 500, 64)           0         \n",
            "                                                                 \n",
            " flatten_1 (Flatten)         (None, 32000)             0         \n",
            "                                                                 \n",
            " dense_8 (Dense)             (None, 1)                 32001     \n",
            "                                                                 \n",
            "=================================================================\n",
            "Total params: 1,964,417\n",
            "Trainable params: 1,964,417\n",
            "Non-trainable params: 0\n",
            "_________________________________________________________________\n"
          ]
        }
      ]
    },
    {
      "cell_type": "code",
      "source": [
        "model.compile(optimizer=\"rmsprop\", loss=\"binary_crossentropy\", metrics=[\"accuracy\"])\n",
        "history = model.fit(x_train, y_train, batch_size=batch_size, epochs=20, validation_data=(x_val, y_val))"
      ],
      "metadata": {
        "colab": {
          "base_uri": "https://localhost:8080/"
        },
        "id": "-8c7tCS5vrC3",
        "outputId": "2ffab0b7-0ebf-4d54-8560-7b0e7773a59f"
      },
      "execution_count": 43,
      "outputs": [
        {
          "output_type": "stream",
          "name": "stdout",
          "text": [
            "Epoch 1/20\n",
            "938/938 [==============================] - 71s 75ms/step - loss: 0.4366 - accuracy: 0.7698 - val_loss: 0.2980 - val_accuracy: 0.8814\n",
            "Epoch 2/20\n",
            "938/938 [==============================] - 71s 75ms/step - loss: 0.2438 - accuracy: 0.9019 - val_loss: 0.2622 - val_accuracy: 0.8969\n",
            "Epoch 3/20\n",
            "938/938 [==============================] - 71s 75ms/step - loss: 0.2094 - accuracy: 0.9183 - val_loss: 0.2739 - val_accuracy: 0.8921\n",
            "Epoch 4/20\n",
            "938/938 [==============================] - 71s 75ms/step - loss: 0.1901 - accuracy: 0.9273 - val_loss: 0.3299 - val_accuracy: 0.8699\n",
            "Epoch 5/20\n",
            "938/938 [==============================] - 70s 75ms/step - loss: 0.1776 - accuracy: 0.9328 - val_loss: 0.2631 - val_accuracy: 0.8967\n",
            "Epoch 6/20\n",
            "938/938 [==============================] - 70s 75ms/step - loss: 0.1675 - accuracy: 0.9362 - val_loss: 0.3500 - val_accuracy: 0.8694\n",
            "Epoch 7/20\n",
            "938/938 [==============================] - 70s 75ms/step - loss: 0.1604 - accuracy: 0.9395 - val_loss: 0.2653 - val_accuracy: 0.8932\n",
            "Epoch 8/20\n",
            "938/938 [==============================] - 78s 83ms/step - loss: 0.1558 - accuracy: 0.9404 - val_loss: 0.2714 - val_accuracy: 0.8959\n",
            "Epoch 9/20\n",
            "938/938 [==============================] - 72s 77ms/step - loss: 0.1473 - accuracy: 0.9458 - val_loss: 0.2868 - val_accuracy: 0.8896\n",
            "Epoch 10/20\n",
            "938/938 [==============================] - 71s 76ms/step - loss: 0.1402 - accuracy: 0.9471 - val_loss: 0.3288 - val_accuracy: 0.8773\n",
            "Epoch 11/20\n",
            "938/938 [==============================] - 71s 76ms/step - loss: 0.1353 - accuracy: 0.9506 - val_loss: 0.2900 - val_accuracy: 0.8916\n",
            "Epoch 12/20\n",
            "938/938 [==============================] - 70s 75ms/step - loss: 0.1300 - accuracy: 0.9514 - val_loss: 0.3127 - val_accuracy: 0.8840\n",
            "Epoch 13/20\n",
            "938/938 [==============================] - 71s 76ms/step - loss: 0.1265 - accuracy: 0.9534 - val_loss: 0.4526 - val_accuracy: 0.8425\n",
            "Epoch 14/20\n",
            "938/938 [==============================] - 71s 76ms/step - loss: 0.1201 - accuracy: 0.9561 - val_loss: 0.3790 - val_accuracy: 0.8670\n",
            "Epoch 15/20\n",
            "938/938 [==============================] - 72s 76ms/step - loss: 0.1155 - accuracy: 0.9570 - val_loss: 0.3538 - val_accuracy: 0.8751\n",
            "Epoch 16/20\n",
            "938/938 [==============================] - 71s 75ms/step - loss: 0.1099 - accuracy: 0.9598 - val_loss: 0.3879 - val_accuracy: 0.8724\n",
            "Epoch 17/20\n",
            "938/938 [==============================] - 70s 75ms/step - loss: 0.1080 - accuracy: 0.9620 - val_loss: 0.3827 - val_accuracy: 0.8756\n",
            "Epoch 18/20\n",
            "938/938 [==============================] - 71s 75ms/step - loss: 0.0994 - accuracy: 0.9625 - val_loss: 0.4292 - val_accuracy: 0.8704\n",
            "Epoch 19/20\n",
            "938/938 [==============================] - 71s 76ms/step - loss: 0.0965 - accuracy: 0.9652 - val_loss: 0.3681 - val_accuracy: 0.8824\n",
            "Epoch 20/20\n",
            "938/938 [==============================] - 71s 76ms/step - loss: 0.0927 - accuracy: 0.9670 - val_loss: 0.4196 - val_accuracy: 0.8742\n"
          ]
        }
      ]
    },
    {
      "cell_type": "code",
      "source": [
        "plot_hist_classif(history)\n",
        "print('Test Accuracy = %.2f' % model.evaluate(x_test, y_test)[1])  # overfitting!"
      ],
      "metadata": {
        "colab": {
          "base_uri": "https://localhost:8080/",
          "height": 318
        },
        "id": "dKBVw5mHv_oX",
        "outputId": "01b16817-5689-4137-d46b-8275b712e986"
      },
      "execution_count": null,
      "outputs": [
        {
          "output_type": "display_data",
          "data": {
            "image/png": "[encoded data removed]",
            "text/plain": [
              "<Figure size 432x288 with 1 Axes>"
            ]
          },
          "metadata": {
            "needs_background": "light"
          }
        },
        {
          "output_type": "stream",
          "name": "stdout",
          "text": [
            "313/313 [==============================] - 1s 5ms/step - loss: 0.6392 - accuracy: 0.8309\n",
            "Test Accuracy = 0.83\n"
          ]
        }
      ]
    },
    {
      "cell_type": "code",
      "source": [
        "# Let's try an RNN\n",
        "model = models.Sequential()\n",
        "model.add(layers.Embedding(max_features, 64))\n",
        "model.add(layers.LSTM(128, return_sequences=False))\n",
        "model.add(layers.Dropout(0.5))\n",
        "model.add(layers.Dense(1, activation=\"sigmoid\"))\n",
        "model.compile(optimizer=\"rmsprop\", loss=\"binary_crossentropy\", metrics=[\"accuracy\"])\n",
        "model.summary()"
      ],
      "metadata": {
        "colab": {
          "base_uri": "https://localhost:8080/"
        },
        "id": "Ieh7Wl9Pwh8V",
        "outputId": "7e4d2bbc-b62c-407d-ee81-e5d62d9caa3a"
      },
      "execution_count": null,
      "outputs": [
        {
          "output_type": "stream",
          "name": "stdout",
          "text": [
            "Model: \"sequential_2\"\n",
            "_________________________________________________________________\n",
            " Layer (type)                Output Shape              Param #   \n",
            "=================================================================\n",
            " embedding_2 (Embedding)     (None, None, 64)          960000    \n",
            "                                                                 \n",
            " lstm_4 (LSTM)               (None, 128)               98816     \n",
            "                                                                 \n",
            " dropout_2 (Dropout)         (None, 128)               0         \n",
            "                                                                 \n",
            " dense_2 (Dense)             (None, 1)                 129       \n",
            "                                                                 \n",
            "=================================================================\n",
            "Total params: 1,058,945\n",
            "Trainable params: 1,058,945\n",
            "Non-trainable params: 0\n",
            "_________________________________________________________________\n"
          ]
        }
      ]
    },
    {
      "cell_type": "code",
      "source": [
        "# This model will take a long time to train, so we add an early stopping criterion\n",
        "# N.B: It's actually much faster to train WITHOUT A GPU!!\n",
        "callbacks = [EarlyStopping(monitor='val_accuracy', patience=2)]\n",
        "history = model.fit(x_train, y_train, batch_size=batch_size, epochs=20, validation_data=(x_val, y_val), callbacks=callbacks)\n",
        "plot_hist_classif(history)\n",
        "print('Test Accuracy = %.2f' % model.evaluate(x_test, y_test)[1])\n",
        "# Note that we're still overfitting, but this is just an example of use"
      ],
      "metadata": {
        "colab": {
          "base_uri": "https://localhost:8080/",
          "height": 561
        },
        "id": "Sd54xZMmxKBQ",
        "outputId": "96c092e9-eea3-4080-b720-31885daecd83"
      },
      "execution_count": null,
      "outputs": [
        {
          "output_type": "stream",
          "name": "stdout",
          "text": [
            "Epoch 1/20\n",
            "938/938 [==============================] - 476s 505ms/step - loss: 0.4209 - accuracy: 0.8129 - val_loss: 0.3985 - val_accuracy: 0.8645\n",
            "Epoch 2/20\n",
            "938/938 [==============================] - 490s 522ms/step - loss: 0.2808 - accuracy: 0.8916 - val_loss: 0.2791 - val_accuracy: 0.8866\n",
            "Epoch 3/20\n",
            "938/938 [==============================] - 475s 507ms/step - loss: 0.2338 - accuracy: 0.9130 - val_loss: 0.3231 - val_accuracy: 0.8945\n",
            "Epoch 4/20\n",
            "938/938 [==============================] - 480s 511ms/step - loss: 0.2113 - accuracy: 0.9250 - val_loss: 0.2889 - val_accuracy: 0.8817\n",
            "Epoch 5/20\n",
            "938/938 [==============================] - 468s 499ms/step - loss: 0.1846 - accuracy: 0.9347 - val_loss: 0.2552 - val_accuracy: 0.9050\n",
            "Epoch 6/20\n",
            "938/938 [==============================] - 470s 501ms/step - loss: 0.1598 - accuracy: 0.9435 - val_loss: 0.4075 - val_accuracy: 0.8703\n",
            "Epoch 7/20\n",
            "938/938 [==============================] - 472s 503ms/step - loss: 0.1433 - accuracy: 0.9517 - val_loss: 0.4536 - val_accuracy: 0.8694\n"
          ]
        },
        {
          "output_type": "display_data",
          "data": {
            "image/png": "[encoded data removed]",
            "text/plain": [
              "<Figure size 432x288 with 1 Axes>"
            ]
          },
          "metadata": {
            "needs_background": "light"
          }
        },
        {
          "output_type": "stream",
          "name": "stdout",
          "text": [
            "313/313 [==============================] - 38s 120ms/step - loss: 0.4368 - accuracy: 0.8754\n",
            "Test Accuracy = 0.88\n"
          ]
        }
      ]
    },
    {
      "cell_type": "markdown",
      "source": [
        "## Your turn!\n",
        "\n",
        "Implement a bidirectional RNN that can outperform the LSTM model we had above.\n",
        "\n",
        "A starting skeleton could be:\n",
        " \n",
        "*   Embedding layer with an output dimension of 64\n",
        "*   Bidirectional layer with a 32-neuron LSTM layer\n",
        "*   Dense layer with 1 neuron and a sigmoid activation\n",
        "\n",
        "Some suggestions:\n",
        "\n",
        "- Change the sizes of the layers (i.e., the numbers of neurons)\n",
        "- Add dropout\n",
        "- Add other recurrent and/or bidirectional layers\n",
        "\n",
        "Once you have a model that scores over 90% on the validation set, check its performance on the test set and upload it on the code checker in Moodle.\n",
        "\n",
        "Note that the model I'm suggesting above will be able to reach the desired performance, but it will show signs of overfitting. Can you do it by adding regularization (dropout, smaller network) so you don't overfit?\n"
      ],
      "metadata": {
        "id": "kzZhXm5gkz_g"
      }
    },
    {
      "cell_type": "code",
      "source": [
        "from keras.layers import Bidirectional,Dense,LSTM,Activation\n",
        "\n",
        "n_ = 2  # number of epochs. You can edit this\n",
        "\n",
        "model = models.Sequential()\n",
        "# YOUR CODE HERE!\n",
        "model.add(layers.Embedding(max_features,64))\n",
        "model.add(Bidirectional(LSTM(32)))\n",
        "model.add(layers.Dense(1))\n",
        "model.add(layers.Activation('sigmoid'))\n",
        "model_dense.summary()\n",
        "\n",
        "\n",
        "# I DON'T RECOMMEND THAT YOU CHANGE CODE AFTER THIS POINT\n",
        "model.compile(optimizer=\"rmsprop\", loss=\"binary_crossentropy\", metrics=[\"accuracy\"])\n",
        "\n",
        "print(model.summary())\n",
        "\n",
        "# This model will take a long time to train, so we add an early stopping criterion\n",
        "# I've also added a ModelCheckpoint that will save the best model according to val_accuracy regardless of whether we continue training\n",
        "callbacks = [EarlyStopping(monitor='val_accuracy', patience=1),\n",
        "             ModelCheckpoint(\"model.keras\", save_best_only=True, monitor=\"val_accuracy\", mode='max')]\n",
        "\n",
        "history = model.fit(x_train, y_train, batch_size=batch_size, epochs=n_, \n",
        "                    validation_data=(x_val, y_val), \n",
        "                    callbacks=callbacks)\n",
        "plot_hist_classif(history)\n",
        "model = keras.models.load_model(\"model.keras\")\n",
        "print('Test Accuracy = %.2f' % model.evaluate(x_test, y_test)[1])"
      ],
      "metadata": {
        "id": "jCHOC7dyadaj",
        "colab": {
          "base_uri": "https://localhost:8080/",
          "height": 1000
        },
        "outputId": "e48df4e9-45eb-478a-fa94-8e341793a628"
      },
      "execution_count": 45,
      "outputs": [
        {
          "output_type": "stream",
          "name": "stdout",
          "text": [
            "Model: \"sequential\"\n",
            "_________________________________________________________________\n",
            " Layer (type)                Output Shape              Param #   \n",
            "=================================================================\n",
            " flatten (Flatten)           (None, 84)                0         \n",
            "                                                                 \n",
            " dense (Dense)               (None, 10)                850       \n",
            "                                                                 \n",
            " dense_1 (Dense)             (None, 1)                 11        \n",
            "                                                                 \n",
            "=================================================================\n",
            "Total params: 861\n",
            "Trainable params: 861\n",
            "Non-trainable params: 0\n",
            "_________________________________________________________________\n",
            "Model: \"sequential_7\"\n",
            "_________________________________________________________________\n",
            " Layer (type)                Output Shape              Param #   \n",
            "=================================================================\n",
            " embedding_2 (Embedding)     (None, None, 64)          960000    \n",
            "                                                                 \n",
            " bidirectional (Bidirectiona  (None, 64)               24832     \n",
            " l)                                                              \n",
            "                                                                 \n",
            " dense_9 (Dense)             (None, 1)                 65        \n",
            "                                                                 \n",
            " activation (Activation)     (None, 1)                 0         \n",
            "                                                                 \n",
            "=================================================================\n",
            "Total params: 984,897\n",
            "Trainable params: 984,897\n",
            "Non-trainable params: 0\n",
            "_________________________________________________________________\n",
            "None\n",
            "Epoch 1/2\n",
            "938/938 [==============================] - 386s 406ms/step - loss: 0.3845 - accuracy: 0.8316 - val_loss: 0.2973 - val_accuracy: 0.8770\n",
            "Epoch 2/2\n",
            "938/938 [==============================] - 382s 407ms/step - loss: 0.2578 - accuracy: 0.9009 - val_loss: 0.2689 - val_accuracy: 0.8957\n"
          ]
        },
        {
          "output_type": "display_data",
          "data": {
            "text/plain": [
              "<Figure size 432x288 with 1 Axes>"
            ],
            "image/png": "[encoded data removed]"
          },
          "metadata": {
            "needs_background": "light"
          }
        },
        {
          "output_type": "stream",
          "name": "stdout",
          "text": [
            "313/313 [==============================] - 23s 71ms/step - loss: 0.2678 - accuracy: 0.8939\n",
            "Test Accuracy = 0.89\n"
          ]
        }
      ]
    },
    {
      "cell_type": "code",
      "source": [
        "if model.count_params() > 1000000:\n",
        "    print(\"Due to memory constraints on Moodle, the lab quiz has a 10MB limit on your model size, so you need to use a smaller model to validate through the auto-marker.\")\n",
        "\n",
        "if history.history[\"val_accuracy\"][-1] > 0.9:\n",
        "    print(\"Your model is accurate enough!\")\n",
        "\n",
        "else:\n",
        "    print(\"Accuracy is below the threshold!\")\n",
        "    raise Exception(\"Your model isn't accurate enough to pass the progress checker!\")\n",
        "# Save the model into a local folder\n",
        "keras.models.save_model(model, \"Model.h5\",save_format='h5')\n",
        "print('Model saved! You can now upload it to the lab quiz.')"
      ],
      "metadata": {
        "id": "ZFBmg66_CR7y"
      },
      "execution_count": null,
      "outputs": []
    },
    {
      "cell_type": "code",
      "source": [
        ""
      ],
      "metadata": {
        "id": "hv7PyBQQsXav"
      },
      "execution_count": null,
      "outputs": []
    }
  ],
  "metadata": {
    "kernelspec": {
      "display_name": "Python 3",
      "language": "python",
      "name": "python3"
    },
    "language_info": {
      "codemirror_mode": {
        "name": "ipython",
        "version": 3
      },
      "file_extension": ".py",
      "mimetype": "text/x-python",
      "name": "python",
      "nbconvert_exporter": "python",
      "pygments_lexer": "ipython3",
      "version": "3.7.10"
    },
    "colab": {
      "name": "rnn.ipynb",
      "provenance": [],
      "collapsed_sections": [
        "7c-duA1Z_a0R",
        "3ozUAZX__a0R"
      ]
    }
  },
  "nbformat": 4,
  "nbformat_minor": 0
}
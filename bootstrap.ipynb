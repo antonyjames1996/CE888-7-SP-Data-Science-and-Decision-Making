{
  "nbformat": 4,
  "nbformat_minor": 0,
  "metadata": {
    "colab": {
      "name": "bootstrap.ipynb",
      "provenance": [],
      "collapsed_sections": []
    },
    "kernelspec": {
      "display_name": "Python 3",
      "language": "python",
      "name": "python3"
    },
    "language_info": {
      "codemirror_mode": {
        "name": "ipython",
        "version": 3
      },
      "file_extension": ".py",
      "mimetype": "text/x-python",
      "name": "python",
      "nbconvert_exporter": "python",
      "pygments_lexer": "ipython3",
      "version": "3.7.6"
    },
    "pycharm": {
      "stem_cell": {
        "cell_type": "raw",
        "metadata": {
          "collapsed": false
        },
        "source": []
      }
    }
  },
  "cells": [
    {
      "cell_type": "markdown",
      "metadata": {
        "id": "nCi_99yMYIb1"
      },
      "source": [
        "In this notebook you'll create your own bootstrap function following the bootstrap algorithm (check the lecture notes!)"
      ]
    },
    {
      "cell_type": "code",
      "metadata": {
        "id": "LY5zujI2YC37",
        "pycharm": {
          "name": "#%%# Imports\n"
        }
      },
      "source": [
        "import matplotlib\n",
        "import pandas as pd\n",
        "import seaborn as sns\n",
        "import numpy as np"
      ],
      "execution_count": 100,
      "outputs": []
    },
    {
      "cell_type": "code",
      "metadata": {
        "id": "Eqkwj4SMY38t"
      },
      "source": [
        "# Load the data\n",
        "df = pd.read_csv('https://raw.githubusercontent.com/albanda/CE888/master/lab2%20-%20bootstrap/vehicles.csv')\n",
        "df = df.dropna()\n",
        "data = df.values.T[1]"
      ],
      "execution_count": 101,
      "outputs": []
    },
    {
      "cell_type": "code",
      "source": [
        "print(data)"
      ],
      "metadata": {
        "colab": {
          "base_uri": "https://localhost:8080/"
        },
        "id": "0yta0QX78H2Q",
        "outputId": "a0ce655e-97e1-427c-a004-968e88a3d8a6"
      },
      "execution_count": 102,
      "outputs": [
        {
          "output_type": "stream",
          "name": "stdout",
          "text": [
            "[24. 27. 27. 25. 31. 35. 24. 19. 28. 23. 27. 20. 22. 18. 20. 31. 32. 31.\n",
            " 32. 24. 26. 29. 24. 24. 33. 33. 32. 28. 19. 32. 34. 26. 30. 22. 22. 33.\n",
            " 39. 36. 28. 27. 21. 24. 30. 34. 32. 38. 37. 30. 31. 37. 32. 47. 41. 45.\n",
            " 34. 33. 24. 32. 39. 35. 32. 37. 38. 34. 34. 32. 33. 32. 25. 24. 37. 31.\n",
            " 36. 36. 34. 38. 32. 38. 32.]\n"
          ]
        }
      ]
    },
    {
      "cell_type": "code",
      "metadata": {
        "id": "Gxvc_bScYC4H",
        "pycharm": {
          "name": "#%%\n"
        }
      },
      "source": [
        "# Checking the notes from the lecture, create here your own bootstrap function:\n",
        "# 1. Sample from the input array x to create an array of samples of shape (n_bootstraps, sample_size)\n",
        "# Hint: Check the function random.choice() on Numpy\n",
        "# 2. Calculate and save the mean of the array (this is \"data_mean\" that is returned by the function)\n",
        "# 3. Calculate the mean from each bootstrap (i.e., row) and store it.\n",
        "# (This should be an array of n_bootstraps values)\n",
        "# 4. Calculate the lower and upper bounds for a 95% CI (hint: check the percentile function on Numpy)\n",
        "# 5. Return data_mean, and the lower and upper bounds of your interval\n",
        "def bootstrap_mean(x, sample_size, n_bootstraps):\n",
        "\t# <---INSERT YOUR CODE HERE--->\n",
        "\tarr=np.random.choice(x,(n_bootstraps, sample_size))\n",
        "\tdata_mean = np.mean(arr)\n",
        "\tbt_mean = np.std(arr,axis=1)\n",
        "\tdata_mean = np.mean(arr)\n",
        "\tlower = np.percentile(bt_mean, 2.5)\n",
        "\tupper = np.percentile(bt_mean, 97.5)\n",
        "\treturn data_mean, lower, upper\n"
      ],
      "execution_count": 103,
      "outputs": []
    },
    {
      "cell_type": "code",
      "metadata": {
        "id": "AN7sEOcMYC4P",
        "pycharm": {
          "name": "#%%\n"
        },
        "colab": {
          "base_uri": "https://localhost:8080/",
          "height": 442
        },
        "outputId": "873e1a8a-64fe-41a5-b4ca-0ae656d8ab4a"
      },
      "source": [
        "# Call your bootstrap function and plot the results\n",
        "\n",
        "boots = []\n",
        "for i in range(100, 50000, 1000):\n",
        "    boot = bootstrap_mean(data, data.shape[0], i)\n",
        "    boots.append([i, boot[0], \"mean\"])\n",
        "    boots.append([i, boot[1], \"lower\"])\n",
        "    boots.append([i, boot[2], \"upper\"])\n",
        "\n",
        "df_boot = pd.DataFrame(boots, columns=['Bootstrap Iterations', 'Mean', \"Value\"])\n",
        "sns_plot = sns.lmplot(df_boot.columns[0], df_boot.columns[1], data=df_boot, fit_reg=False, hue=\"Value\")\n",
        "\n",
        "sns_plot.axes[0, 0].set_ylim(0,)\n",
        "sns_plot.axes[0, 0].set_xlim(0, 50000)\n"
      ],
      "execution_count": 104,
      "outputs": [
        {
          "output_type": "stream",
          "name": "stderr",
          "text": [
            "/usr/local/lib/python3.7/dist-packages/seaborn/_decorators.py:43: FutureWarning: Pass the following variables as keyword args: x, y. From version 0.12, the only valid positional argument will be `data`, and passing other arguments without an explicit keyword will result in an error or misinterpretation.\n",
            "  FutureWarning\n"
          ]
        },
        {
          "output_type": "execute_result",
          "data": {
            "text/plain": [
              "(0.0, 50000.0)"
            ]
          },
          "metadata": {},
          "execution_count": 104
        },
        {
          "output_type": "display_data",
          "data": {
            "text/plain": [
              "<Figure size 425.125x360 with 1 Axes>"
            ],
            "image/png": "[encoded data removed]"
          },
          "metadata": {
            "needs_background": "light"
          }
        }
      ]
    },
    {
      "cell_type": "markdown",
      "metadata": {
        "id": "MjtP4e2_YC4V"
      },
      "source": [
        "\n",
        "Now, modify the bootstrap function you created above so that you can pass your desired confidence interval as a parameter.\n",
        "\n"
      ]
    },
    {
      "cell_type": "code",
      "metadata": {
        "id": "3K9j0FuGYhHs"
      },
      "source": [
        "def bootstrap_mean_ci(sample, sample_size, n_bootstraps, ci):\n",
        "\t# <---INSERT YOUR CODE HERE--->\n",
        "\tarr=np.random.choice(sample,(n_bootstraps, sample_size))\n",
        "\tdata_mean = np.mean(arr)\n",
        "\tbt_mean = np.mean(arr,axis=1)\n",
        "\tbt_std = np.std(arr,axis=1)\n",
        "\tlower = np.percentile(bt_std, (100-ci)/2)\n",
        "\tupper = np.percentile(bt_std, (100+ci)/2)\n",
        "\treturn data_mean, lower, upper"
      ],
      "execution_count": 108,
      "outputs": []
    },
    {
      "cell_type": "code",
      "metadata": {
        "id": "uDnjq08GYl-C",
        "colab": {
          "base_uri": "https://localhost:8080/",
          "height": 639
        },
        "outputId": "484cf488-ef59-4a7d-e7ec-bedce5504fe0"
      },
      "source": [
        "boots = []\n",
        "for i in range(1000, 12000, 1000):\n",
        "    boot = bootstrap_mean_ci(data, data.shape[0], i, 95)\n",
        "    boots.append([i, boot[0], \"mean\"])\n",
        "    boots.append([i, boot[1], \"lower\"])\n",
        "    boots.append([i, boot[2], \"upper\"])\n",
        "\n",
        "    print(i,boots)\n",
        "\n",
        "df_boot = pd.DataFrame(boots, columns=['Boostrap Iterations', 'Mean', \"Value\"])\n",
        "sns_plot = sns.lmplot(df_boot.columns[0], df_boot.columns[1], data=df_boot, fit_reg=False, hue=\"Value\")\n",
        "\n",
        "sns_plot.axes[0, 0].set_ylim(0,)\n",
        "sns_plot.axes[0, 0].set_xlim(0, 50000)\n",
        "\n",
        "#sns_plot.savefig(\"bootstrap_confidence_80.pdf\", bbox_inches='tight')\n"
      ],
      "execution_count": 110,
      "outputs": [
        {
          "output_type": "stream",
          "name": "stdout",
          "text": [
            "1000 [[1000, 30.47645569620253, 'mean'], [1000, 5.083387332437766, 'lower'], [1000, 6.930053162406928, 'upper']]\n",
            "2000 [[1000, 30.47645569620253, 'mean'], [1000, 5.083387332437766, 'lower'], [1000, 6.930053162406928, 'upper'], [2000, 30.479803797468353, 'mean'], [2000, 5.145693168742063, 'lower'], [2000, 6.912078024563296, 'upper']]\n",
            "3000 [[1000, 30.47645569620253, 'mean'], [1000, 5.083387332437766, 'lower'], [1000, 6.930053162406928, 'upper'], [2000, 30.479803797468353, 'mean'], [2000, 5.145693168742063, 'lower'], [2000, 6.912078024563296, 'upper'], [3000, 30.458616033755273, 'mean'], [3000, 5.13697570247329, 'lower'], [3000, 6.915603571950574, 'upper']]\n",
            "4000 [[1000, 30.47645569620253, 'mean'], [1000, 5.083387332437766, 'lower'], [1000, 6.930053162406928, 'upper'], [2000, 30.479803797468353, 'mean'], [2000, 5.145693168742063, 'lower'], [2000, 6.912078024563296, 'upper'], [3000, 30.458616033755273, 'mean'], [3000, 5.13697570247329, 'lower'], [3000, 6.915603571950574, 'upper'], [4000, 30.4895, 'mean'], [4000, 5.161707296471022, 'lower'], [4000, 6.9278696070028545, 'upper']]\n",
            "5000 [[1000, 30.47645569620253, 'mean'], [1000, 5.083387332437766, 'lower'], [1000, 6.930053162406928, 'upper'], [2000, 30.479803797468353, 'mean'], [2000, 5.145693168742063, 'lower'], [2000, 6.912078024563296, 'upper'], [3000, 30.458616033755273, 'mean'], [3000, 5.13697570247329, 'lower'], [3000, 6.915603571950574, 'upper'], [4000, 30.4895, 'mean'], [4000, 5.161707296471022, 'lower'], [4000, 6.9278696070028545, 'upper'], [5000, 30.47821012658228, 'mean'], [5000, 5.145209159584504, 'lower'], [5000, 6.919797701059241, 'upper']]\n",
            "6000 [[1000, 30.47645569620253, 'mean'], [1000, 5.083387332437766, 'lower'], [1000, 6.930053162406928, 'upper'], [2000, 30.479803797468353, 'mean'], [2000, 5.145693168742063, 'lower'], [2000, 6.912078024563296, 'upper'], [3000, 30.458616033755273, 'mean'], [3000, 5.13697570247329, 'lower'], [3000, 6.915603571950574, 'upper'], [4000, 30.4895, 'mean'], [4000, 5.161707296471022, 'lower'], [4000, 6.9278696070028545, 'upper'], [5000, 30.47821012658228, 'mean'], [5000, 5.145209159584504, 'lower'], [5000, 6.919797701059241, 'upper'], [6000, 30.47956329113924, 'mean'], [6000, 5.154780238554101, 'lower'], [6000, 6.90037490647221, 'upper']]\n",
            "7000 [[1000, 30.47645569620253, 'mean'], [1000, 5.083387332437766, 'lower'], [1000, 6.930053162406928, 'upper'], [2000, 30.479803797468353, 'mean'], [2000, 5.145693168742063, 'lower'], [2000, 6.912078024563296, 'upper'], [3000, 30.458616033755273, 'mean'], [3000, 5.13697570247329, 'lower'], [3000, 6.915603571950574, 'upper'], [4000, 30.4895, 'mean'], [4000, 5.161707296471022, 'lower'], [4000, 6.9278696070028545, 'upper'], [5000, 30.47821012658228, 'mean'], [5000, 5.145209159584504, 'lower'], [5000, 6.919797701059241, 'upper'], [6000, 30.47956329113924, 'mean'], [6000, 5.154780238554101, 'lower'], [6000, 6.90037490647221, 'upper'], [7000, 30.47548643761302, 'mean'], [7000, 5.128736825802639, 'lower'], [7000, 6.912017136845013, 'upper']]\n",
            "8000 [[1000, 30.47645569620253, 'mean'], [1000, 5.083387332437766, 'lower'], [1000, 6.930053162406928, 'upper'], [2000, 30.479803797468353, 'mean'], [2000, 5.145693168742063, 'lower'], [2000, 6.912078024563296, 'upper'], [3000, 30.458616033755273, 'mean'], [3000, 5.13697570247329, 'lower'], [3000, 6.915603571950574, 'upper'], [4000, 30.4895, 'mean'], [4000, 5.161707296471022, 'lower'], [4000, 6.9278696070028545, 'upper'], [5000, 30.47821012658228, 'mean'], [5000, 5.145209159584504, 'lower'], [5000, 6.919797701059241, 'upper'], [6000, 30.47956329113924, 'mean'], [6000, 5.154780238554101, 'lower'], [6000, 6.90037490647221, 'upper'], [7000, 30.47548643761302, 'mean'], [7000, 5.128736825802639, 'lower'], [7000, 6.912017136845013, 'upper'], [8000, 30.47978164556962, 'mean'], [8000, 5.125989963467128, 'lower'], [8000, 6.901381445013432, 'upper']]\n",
            "9000 [[1000, 30.47645569620253, 'mean'], [1000, 5.083387332437766, 'lower'], [1000, 6.930053162406928, 'upper'], [2000, 30.479803797468353, 'mean'], [2000, 5.145693168742063, 'lower'], [2000, 6.912078024563296, 'upper'], [3000, 30.458616033755273, 'mean'], [3000, 5.13697570247329, 'lower'], [3000, 6.915603571950574, 'upper'], [4000, 30.4895, 'mean'], [4000, 5.161707296471022, 'lower'], [4000, 6.9278696070028545, 'upper'], [5000, 30.47821012658228, 'mean'], [5000, 5.145209159584504, 'lower'], [5000, 6.919797701059241, 'upper'], [6000, 30.47956329113924, 'mean'], [6000, 5.154780238554101, 'lower'], [6000, 6.90037490647221, 'upper'], [7000, 30.47548643761302, 'mean'], [7000, 5.128736825802639, 'lower'], [7000, 6.912017136845013, 'upper'], [8000, 30.47978164556962, 'mean'], [8000, 5.125989963467128, 'lower'], [8000, 6.901381445013432, 'upper'], [9000, 30.4757482419128, 'mean'], [9000, 5.1432359577813, 'lower'], [9000, 6.930061243942681, 'upper']]\n",
            "10000 [[1000, 30.47645569620253, 'mean'], [1000, 5.083387332437766, 'lower'], [1000, 6.930053162406928, 'upper'], [2000, 30.479803797468353, 'mean'], [2000, 5.145693168742063, 'lower'], [2000, 6.912078024563296, 'upper'], [3000, 30.458616033755273, 'mean'], [3000, 5.13697570247329, 'lower'], [3000, 6.915603571950574, 'upper'], [4000, 30.4895, 'mean'], [4000, 5.161707296471022, 'lower'], [4000, 6.9278696070028545, 'upper'], [5000, 30.47821012658228, 'mean'], [5000, 5.145209159584504, 'lower'], [5000, 6.919797701059241, 'upper'], [6000, 30.47956329113924, 'mean'], [6000, 5.154780238554101, 'lower'], [6000, 6.90037490647221, 'upper'], [7000, 30.47548643761302, 'mean'], [7000, 5.128736825802639, 'lower'], [7000, 6.912017136845013, 'upper'], [8000, 30.47978164556962, 'mean'], [8000, 5.125989963467128, 'lower'], [8000, 6.901381445013432, 'upper'], [9000, 30.4757482419128, 'mean'], [9000, 5.1432359577813, 'lower'], [9000, 6.930061243942681, 'upper'], [10000, 30.474356962025315, 'mean'], [10000, 5.148048491381919, 'lower'], [10000, 6.902123194667428, 'upper']]\n",
            "11000 [[1000, 30.47645569620253, 'mean'], [1000, 5.083387332437766, 'lower'], [1000, 6.930053162406928, 'upper'], [2000, 30.479803797468353, 'mean'], [2000, 5.145693168742063, 'lower'], [2000, 6.912078024563296, 'upper'], [3000, 30.458616033755273, 'mean'], [3000, 5.13697570247329, 'lower'], [3000, 6.915603571950574, 'upper'], [4000, 30.4895, 'mean'], [4000, 5.161707296471022, 'lower'], [4000, 6.9278696070028545, 'upper'], [5000, 30.47821012658228, 'mean'], [5000, 5.145209159584504, 'lower'], [5000, 6.919797701059241, 'upper'], [6000, 30.47956329113924, 'mean'], [6000, 5.154780238554101, 'lower'], [6000, 6.90037490647221, 'upper'], [7000, 30.47548643761302, 'mean'], [7000, 5.128736825802639, 'lower'], [7000, 6.912017136845013, 'upper'], [8000, 30.47978164556962, 'mean'], [8000, 5.125989963467128, 'lower'], [8000, 6.901381445013432, 'upper'], [9000, 30.4757482419128, 'mean'], [9000, 5.1432359577813, 'lower'], [9000, 6.930061243942681, 'upper'], [10000, 30.474356962025315, 'mean'], [10000, 5.148048491381919, 'lower'], [10000, 6.902123194667428, 'upper'], [11000, 30.485415420023013, 'mean'], [11000, 5.136088233194128, 'lower'], [11000, 6.902495197236799, 'upper']]\n"
          ]
        },
        {
          "output_type": "stream",
          "name": "stderr",
          "text": [
            "/usr/local/lib/python3.7/dist-packages/seaborn/_decorators.py:43: FutureWarning: Pass the following variables as keyword args: x, y. From version 0.12, the only valid positional argument will be `data`, and passing other arguments without an explicit keyword will result in an error or misinterpretation.\n",
            "  FutureWarning\n"
          ]
        },
        {
          "output_type": "execute_result",
          "data": {
            "text/plain": [
              "(0.0, 50000.0)"
            ]
          },
          "metadata": {},
          "execution_count": 110
        },
        {
          "output_type": "display_data",
          "data": {
            "text/plain": [
              "<Figure size 425.125x360 with 1 Axes>"
            ],
            "image/png": "[encoded data removed]"
          },
          "metadata": {
            "needs_background": "light"
          }
        }
      ]
    },
    {
      "cell_type": "markdown",
      "metadata": {
        "id": "qjNgXW6wdd7r"
      },
      "source": [
        "# Vehicles dataset\n",
        "\n",
        "Now let's work on a different dataset, which is stored in the vehicles.csv file.\n"
      ]
    },
    {
      "cell_type": "code",
      "metadata": {
        "id": "avWv4ipFdpka",
        "colab": {
          "base_uri": "https://localhost:8080/",
          "height": 300
        },
        "outputId": "1d5ef54d-ba96-4879-ca49-1fde17dc9943"
      },
      "source": [
        "# Load and visualise the vehicles dataset\n",
        "# To load the dataset: https://neptune.ai/blog/google-colab-dealing-with-files (check section \"Load individual files directly from GitHub\")\n",
        "\n",
        "\n",
        "# Note that the current and new fleets are in different columns and have different lengths, so bear this in mind when you're plotting.\n",
        "# You can create separate scatterplots for the two fleets, as you would with the histograms, \n",
        "# or plot them both in one plot (but not one against the other).\n",
        "# <---INSERT YOUR CODE HERE--->\n",
        "# Note: you can add more cells as needed to organise your code and your plots\n"
      ],
      "execution_count": null,
      "outputs": [
        {
          "output_type": "error",
          "ename": "ParserError",
          "evalue": "ignored",
          "traceback": [
            "\u001b[0;31m---------------------------------------------------------------------------\u001b[0m",
            "\u001b[0;31mParserError\u001b[0m                               Traceback (most recent call last)",
            "\u001b[0;32m<ipython-input-24-9e08241bca9b>\u001b[0m in \u001b[0;36m<module>\u001b[0;34m()\u001b[0m\n\u001b[1;32m      2\u001b[0m \u001b[0;31m# To load the dataset: https://neptune.ai/blog/google-colab-dealing-with-files (check section \"Load individual files directly from GitHub\")\u001b[0m\u001b[0;34m\u001b[0m\u001b[0;34m\u001b[0m\u001b[0;34m\u001b[0m\u001b[0m\n\u001b[1;32m      3\u001b[0m \u001b[0;34m\u001b[0m\u001b[0m\n\u001b[0;32m----> 4\u001b[0;31m \u001b[0mdf\u001b[0m \u001b[0;34m=\u001b[0m \u001b[0mpd\u001b[0m\u001b[0;34m.\u001b[0m\u001b[0mread_csv\u001b[0m\u001b[0;34m(\u001b[0m\u001b[0;34m'https://neptune.ai/blog/google-colab-dealing-with-files'\u001b[0m\u001b[0;34m)\u001b[0m\u001b[0;34m\u001b[0m\u001b[0;34m\u001b[0m\u001b[0m\n\u001b[0m\u001b[1;32m      5\u001b[0m \u001b[0mdata\u001b[0m \u001b[0;34m=\u001b[0m \u001b[0mdf\u001b[0m\u001b[0;34m.\u001b[0m\u001b[0mvalues\u001b[0m\u001b[0;34m.\u001b[0m\u001b[0mT\u001b[0m\u001b[0;34m[\u001b[0m\u001b[0;36m1\u001b[0m\u001b[0;34m]\u001b[0m\u001b[0;34m\u001b[0m\u001b[0;34m\u001b[0m\u001b[0m\n\u001b[1;32m      6\u001b[0m \u001b[0;31m# Note that the current and new fleets are in different columns and have different lengths, so bear this in mind when you're plotting.\u001b[0m\u001b[0;34m\u001b[0m\u001b[0;34m\u001b[0m\u001b[0;34m\u001b[0m\u001b[0m\n",
            "\u001b[0;32m/usr/local/lib/python3.7/dist-packages/pandas/util/_decorators.py\u001b[0m in \u001b[0;36mwrapper\u001b[0;34m(*args, **kwargs)\u001b[0m\n\u001b[1;32m    309\u001b[0m                     \u001b[0mstacklevel\u001b[0m\u001b[0;34m=\u001b[0m\u001b[0mstacklevel\u001b[0m\u001b[0;34m,\u001b[0m\u001b[0;34m\u001b[0m\u001b[0;34m\u001b[0m\u001b[0m\n\u001b[1;32m    310\u001b[0m                 )\n\u001b[0;32m--> 311\u001b[0;31m             \u001b[0;32mreturn\u001b[0m \u001b[0mfunc\u001b[0m\u001b[0;34m(\u001b[0m\u001b[0;34m*\u001b[0m\u001b[0margs\u001b[0m\u001b[0;34m,\u001b[0m \u001b[0;34m**\u001b[0m\u001b[0mkwargs\u001b[0m\u001b[0;34m)\u001b[0m\u001b[0;34m\u001b[0m\u001b[0;34m\u001b[0m\u001b[0m\n\u001b[0m\u001b[1;32m    312\u001b[0m \u001b[0;34m\u001b[0m\u001b[0m\n\u001b[1;32m    313\u001b[0m         \u001b[0;32mreturn\u001b[0m \u001b[0mwrapper\u001b[0m\u001b[0;34m\u001b[0m\u001b[0;34m\u001b[0m\u001b[0m\n",
            "\u001b[0;32m/usr/local/lib/python3.7/dist-packages/pandas/io/parsers/readers.py\u001b[0m in \u001b[0;36mread_csv\u001b[0;34m(filepath_or_buffer, sep, delimiter, header, names, index_col, usecols, squeeze, prefix, mangle_dupe_cols, dtype, engine, converters, true_values, false_values, skipinitialspace, skiprows, skipfooter, nrows, na_values, keep_default_na, na_filter, verbose, skip_blank_lines, parse_dates, infer_datetime_format, keep_date_col, date_parser, dayfirst, cache_dates, iterator, chunksize, compression, thousands, decimal, lineterminator, quotechar, quoting, doublequote, escapechar, comment, encoding, encoding_errors, dialect, error_bad_lines, warn_bad_lines, on_bad_lines, delim_whitespace, low_memory, memory_map, float_precision, storage_options)\u001b[0m\n\u001b[1;32m    584\u001b[0m     \u001b[0mkwds\u001b[0m\u001b[0;34m.\u001b[0m\u001b[0mupdate\u001b[0m\u001b[0;34m(\u001b[0m\u001b[0mkwds_defaults\u001b[0m\u001b[0;34m)\u001b[0m\u001b[0;34m\u001b[0m\u001b[0;34m\u001b[0m\u001b[0m\n\u001b[1;32m    585\u001b[0m \u001b[0;34m\u001b[0m\u001b[0m\n\u001b[0;32m--> 586\u001b[0;31m     \u001b[0;32mreturn\u001b[0m \u001b[0m_read\u001b[0m\u001b[0;34m(\u001b[0m\u001b[0mfilepath_or_buffer\u001b[0m\u001b[0;34m,\u001b[0m \u001b[0mkwds\u001b[0m\u001b[0;34m)\u001b[0m\u001b[0;34m\u001b[0m\u001b[0;34m\u001b[0m\u001b[0m\n\u001b[0m\u001b[1;32m    587\u001b[0m \u001b[0;34m\u001b[0m\u001b[0m\n\u001b[1;32m    588\u001b[0m \u001b[0;34m\u001b[0m\u001b[0m\n",
            "\u001b[0;32m/usr/local/lib/python3.7/dist-packages/pandas/io/parsers/readers.py\u001b[0m in \u001b[0;36m_read\u001b[0;34m(filepath_or_buffer, kwds)\u001b[0m\n\u001b[1;32m    486\u001b[0m \u001b[0;34m\u001b[0m\u001b[0m\n\u001b[1;32m    487\u001b[0m     \u001b[0;32mwith\u001b[0m \u001b[0mparser\u001b[0m\u001b[0;34m:\u001b[0m\u001b[0;34m\u001b[0m\u001b[0;34m\u001b[0m\u001b[0m\n\u001b[0;32m--> 488\u001b[0;31m         \u001b[0;32mreturn\u001b[0m \u001b[0mparser\u001b[0m\u001b[0;34m.\u001b[0m\u001b[0mread\u001b[0m\u001b[0;34m(\u001b[0m\u001b[0mnrows\u001b[0m\u001b[0;34m)\u001b[0m\u001b[0;34m\u001b[0m\u001b[0;34m\u001b[0m\u001b[0m\n\u001b[0m\u001b[1;32m    489\u001b[0m \u001b[0;34m\u001b[0m\u001b[0m\n\u001b[1;32m    490\u001b[0m \u001b[0;34m\u001b[0m\u001b[0m\n",
            "\u001b[0;32m/usr/local/lib/python3.7/dist-packages/pandas/io/parsers/readers.py\u001b[0m in \u001b[0;36mread\u001b[0;34m(self, nrows)\u001b[0m\n\u001b[1;32m   1045\u001b[0m     \u001b[0;32mdef\u001b[0m \u001b[0mread\u001b[0m\u001b[0;34m(\u001b[0m\u001b[0mself\u001b[0m\u001b[0;34m,\u001b[0m \u001b[0mnrows\u001b[0m\u001b[0;34m=\u001b[0m\u001b[0;32mNone\u001b[0m\u001b[0;34m)\u001b[0m\u001b[0;34m:\u001b[0m\u001b[0;34m\u001b[0m\u001b[0;34m\u001b[0m\u001b[0m\n\u001b[1;32m   1046\u001b[0m         \u001b[0mnrows\u001b[0m \u001b[0;34m=\u001b[0m \u001b[0mvalidate_integer\u001b[0m\u001b[0;34m(\u001b[0m\u001b[0;34m\"nrows\"\u001b[0m\u001b[0;34m,\u001b[0m \u001b[0mnrows\u001b[0m\u001b[0;34m)\u001b[0m\u001b[0;34m\u001b[0m\u001b[0;34m\u001b[0m\u001b[0m\n\u001b[0;32m-> 1047\u001b[0;31m         \u001b[0mindex\u001b[0m\u001b[0;34m,\u001b[0m \u001b[0mcolumns\u001b[0m\u001b[0;34m,\u001b[0m \u001b[0mcol_dict\u001b[0m \u001b[0;34m=\u001b[0m \u001b[0mself\u001b[0m\u001b[0;34m.\u001b[0m\u001b[0m_engine\u001b[0m\u001b[0;34m.\u001b[0m\u001b[0mread\u001b[0m\u001b[0;34m(\u001b[0m\u001b[0mnrows\u001b[0m\u001b[0;34m)\u001b[0m\u001b[0;34m\u001b[0m\u001b[0;34m\u001b[0m\u001b[0m\n\u001b[0m\u001b[1;32m   1048\u001b[0m \u001b[0;34m\u001b[0m\u001b[0m\n\u001b[1;32m   1049\u001b[0m         \u001b[0;32mif\u001b[0m \u001b[0mindex\u001b[0m \u001b[0;32mis\u001b[0m \u001b[0;32mNone\u001b[0m\u001b[0;34m:\u001b[0m\u001b[0;34m\u001b[0m\u001b[0;34m\u001b[0m\u001b[0m\n",
            "\u001b[0;32m/usr/local/lib/python3.7/dist-packages/pandas/io/parsers/c_parser_wrapper.py\u001b[0m in \u001b[0;36mread\u001b[0;34m(self, nrows)\u001b[0m\n\u001b[1;32m    222\u001b[0m         \u001b[0;32mtry\u001b[0m\u001b[0;34m:\u001b[0m\u001b[0;34m\u001b[0m\u001b[0;34m\u001b[0m\u001b[0m\n\u001b[1;32m    223\u001b[0m             \u001b[0;32mif\u001b[0m \u001b[0mself\u001b[0m\u001b[0;34m.\u001b[0m\u001b[0mlow_memory\u001b[0m\u001b[0;34m:\u001b[0m\u001b[0;34m\u001b[0m\u001b[0;34m\u001b[0m\u001b[0m\n\u001b[0;32m--> 224\u001b[0;31m                 \u001b[0mchunks\u001b[0m \u001b[0;34m=\u001b[0m \u001b[0mself\u001b[0m\u001b[0;34m.\u001b[0m\u001b[0m_reader\u001b[0m\u001b[0;34m.\u001b[0m\u001b[0mread_low_memory\u001b[0m\u001b[0;34m(\u001b[0m\u001b[0mnrows\u001b[0m\u001b[0;34m)\u001b[0m\u001b[0;34m\u001b[0m\u001b[0;34m\u001b[0m\u001b[0m\n\u001b[0m\u001b[1;32m    225\u001b[0m                 \u001b[0;31m# destructive to chunks\u001b[0m\u001b[0;34m\u001b[0m\u001b[0;34m\u001b[0m\u001b[0;34m\u001b[0m\u001b[0m\n\u001b[1;32m    226\u001b[0m                 \u001b[0mdata\u001b[0m \u001b[0;34m=\u001b[0m \u001b[0m_concatenate_chunks\u001b[0m\u001b[0;34m(\u001b[0m\u001b[0mchunks\u001b[0m\u001b[0;34m)\u001b[0m\u001b[0;34m\u001b[0m\u001b[0;34m\u001b[0m\u001b[0m\n",
            "\u001b[0;32m/usr/local/lib/python3.7/dist-packages/pandas/_libs/parsers.pyx\u001b[0m in \u001b[0;36mpandas._libs.parsers.TextReader.read_low_memory\u001b[0;34m()\u001b[0m\n",
            "\u001b[0;32m/usr/local/lib/python3.7/dist-packages/pandas/_libs/parsers.pyx\u001b[0m in \u001b[0;36mpandas._libs.parsers.TextReader._read_rows\u001b[0;34m()\u001b[0m\n",
            "\u001b[0;32m/usr/local/lib/python3.7/dist-packages/pandas/_libs/parsers.pyx\u001b[0m in \u001b[0;36mpandas._libs.parsers.TextReader._tokenize_rows\u001b[0;34m()\u001b[0m\n",
            "\u001b[0;32m/usr/local/lib/python3.7/dist-packages/pandas/_libs/parsers.pyx\u001b[0m in \u001b[0;36mpandas._libs.parsers.raise_parser_error\u001b[0;34m()\u001b[0m\n",
            "\u001b[0;31mParserError\u001b[0m: Error tokenizing data. C error: Expected 1 fields in line 6, saw 3\n"
          ]
        }
      ]
    },
    {
      "cell_type": "markdown",
      "metadata": {
        "id": "B5d0tXDpIEj8"
      },
      "source": [
        "## Compare the two fleets\n",
        "\n",
        "The business analysts come up a comparison algorithm that requires the upper and lower bounds for the mean in order to say which fleet is better.\n",
        "1. Calculate the mean of both samples.\n",
        "2. Using the bootstrap function that you created:\n",
        "    - Construct the 95% CI of the mean of the current fleet.\n",
        "    - Construct the 95% CI of the mean of the new fleet.\n",
        "    - Are they comparable? (i.e., is one better than the other?) -- you can do this with a permutation test (check the lecture notes!)"
      ]
    },
    {
      "cell_type": "code",
      "metadata": {
        "id": "po4mp6zRHC0m"
      },
      "source": [
        "# <---INSERT YOUR CODE HERE--->\n"
      ],
      "execution_count": null,
      "outputs": []
    },
    {
      "cell_type": "code",
      "metadata": {
        "id": "MkxvDZG4HC0n"
      },
      "source": [
        "# Create your own function for a permutation test here (you will need it for the lab quiz!):\n",
        "# def permut_test(sample1, sample2, n_permutations):\n",
        "#     \"\"\"\n",
        "#     sample1: 1D array\n",
        "#     sample2: 1D array (note that the size of the two arrays can be different)\n",
        "#     n_permutations: number of permutations to calculate the p-value\n",
        "#     \"\"\"\n",
        "#     return pvalue\n",
        "\n",
        "def permut_test(sample1, sample2, n_permutations):\n",
        "    \"\"\"\n",
        "    sample1: 1D array\n",
        "    sample2: 1D array (note that the size of the two arrays can be different)\n",
        "    n_permutations: number of permutations to calculate the p-value\n",
        "    \"\"\"\n",
        "    sample1_m=np.mean(sample1)\n",
        "    sample2_m=np.mean(sample2)\n",
        "    t_obs=sample2_m-sample1_m\n",
        "    count=0\n",
        "    for i in range(n_permutations):\n",
        "      concat=np.concatenate([sample1,sample2])\n",
        "      perm=np.random.permutation(concat)\n",
        "      pold = perm[:int(len(perm)/2)]\n",
        "      pnew = perm[int(len(perm)/2):]\n",
        "      pold_m = np.mean(pold)\n",
        "      pnew_m= np.mean(pnew)\n",
        "      t_perm=pnew_m-pold_m\n",
        "      if(t_perm>t_obs):\n",
        "        count+=1\n",
        "      pvalue=count/n_permutations\n",
        "\n",
        "    return pvalue"
      ],
      "execution_count": 115,
      "outputs": []
    },
    {
      "cell_type": "code",
      "source": [
        "# The variables below represent the percentages of democratic votes in Pennsylvania and Ohio (one value for each state).\n",
        "dem_share_PA = [60.08, 40.64, 36.07, 41.21, 31.04, 43.78, 44.08, 46.85, 44.71, 46.15, 63.10, 52.20, 43.18, 40.24, 39.92, 47.87, 37.77, 40.11, 49.85, 48.61, 38.62, 54.25, 34.84, 47.75, 43.82, 55.97, 58.23, 42.97, 42.38, 36.11, 37.53, 42.65, 50.96, 47.43, 56.24, 45.60, 46.39, 35.22, 48.56, 32.97, 57.88, 36.05, 37.72, 50.36, 32.12, 41.55, 54.66, 57.81, 54.58, 32.88, 54.37, 40.45, 47.61, 60.49, 43.11, 27.32, 44.03, 33.56, 37.26, 54.64, 43.12, 25.34, 49.79, 83.56, 40.09, 60.81, 49.81]\n",
        "dem_share_OH = [56.94, 50.46, 65.99, 45.88, 42.23, 45.26, 57.01, 53.61, 59.10, 61.48, 43.43, 44.69, 54.59, 48.36, 45.89, 48.62, 43.92, 38.23, 28.79, 63.57, 38.07, 40.18, 43.05, 41.56, 42.49, 36.06, 52.76, 46.07, 39.43, 39.26, 47.47, 27.92, 38.01, 45.45, 29.07, 28.94, 51.28, 50.10, 39.84, 36.43, 35.71, 31.47, 47.01, 40.10, 48.76, 31.56, 39.86, 45.31, 35.47, 51.38, 46.33, 48.73, 41.77, 41.32, 48.46, 53.14, 34.01, 54.74, 40.67, 38.96, 46.29, 38.25, 6.80, 31.75, 46.33, 44.90, 33.57, 38.10, 39.67, 40.47, 49.44, 37.62, 36.71, 46.73, 42.20, 53.16, 52.40, 58.36, 68.02, 38.53, 34.58, 69.64, 60.50, 53.53, 36.54, 49.58, 41.97, 38.11]\n"
      ],
      "metadata": {
        "id": "7iHPRDEdEW6n"
      },
      "execution_count": 111,
      "outputs": []
    },
    {
      "cell_type": "code",
      "source": [
        "print(bootstrap_mean_ci(dem_share_PA, len(dem_share_PA), 100000 ,98))"
      ],
      "metadata": {
        "colab": {
          "base_uri": "https://localhost:8080/"
        },
        "id": "JUudwNuJEXnB",
        "outputId": "8ab281e7-41fa-4e93-82f1-0c865e6ea0cc"
      },
      "execution_count": 114,
      "outputs": [
        {
          "output_type": "stream",
          "name": "stdout",
          "text": [
            "(45.47754009850752, 7.295989025212246, 12.482989102006643)\n"
          ]
        }
      ]
    },
    {
      "cell_type": "code",
      "source": [
        "print(permut_test(dem_share_PA, dem_share_OH, 30000))"
      ],
      "metadata": {
        "colab": {
          "base_uri": "https://localhost:8080/"
        },
        "id": "mCnNaE0UFARB",
        "outputId": "8973dddc-da86-4e00-9a9b-c5ef7461702e"
      },
      "execution_count": 116,
      "outputs": [
        {
          "output_type": "stream",
          "name": "stdout",
          "text": [
            "0.7693\n"
          ]
        }
      ]
    },
    {
      "cell_type": "code",
      "source": [
        ""
      ],
      "metadata": {
        "id": "3HGcGt38EkSR"
      },
      "execution_count": null,
      "outputs": []
    }
  ]
}